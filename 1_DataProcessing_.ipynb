{
  "nbformat": 4,
  "nbformat_minor": 0,
  "metadata": {
    "colab": {
      "name": "1. DataProcessing_.ipynb",
      "provenance": [],
      "collapsed_sections": [],
      "mount_file_id": "1wfnYpLmU--c0xU11_E_gmlWaFLgoHDfv",
      "authorship_tag": "ABX9TyOEejruh49ijgDZ/PuZa995",
      "include_colab_link": true
    },
    "kernelspec": {
      "name": "python3",
      "display_name": "Python 3"
    }
  },
  "cells": [
    {
      "cell_type": "markdown",
      "metadata": {
        "id": "view-in-github",
        "colab_type": "text"
      },
      "source": [
        "<a href=\"https://colab.research.google.com/github/bidwatrajpokhrel/MLP-HyperparamOptimization/blob/master/1_DataProcessing_.ipynb\" target=\"_parent\"><img src=\"https://colab.research.google.com/assets/colab-badge.svg\" alt=\"Open In Colab\"/></a>"
      ]
    },
    {
      "cell_type": "code",
      "metadata": {
        "id": "FGrx-2MprioB",
        "colab_type": "code",
        "colab": {
          "base_uri": "https://localhost:8080/",
          "height": 54
        },
        "outputId": "1c09896a-6ec3-453c-facc-376c313a0bbb"
      },
      "source": [
        "from google.colab import drive # loads a library to mount your google drive\n",
        "drive.mount('/content/drive') "
      ],
      "execution_count": null,
      "outputs": [
        {
          "output_type": "stream",
          "text": [
            "Drive already mounted at /content/drive; to attempt to forcibly remount, call drive.mount(\"/content/drive\", force_remount=True).\n"
          ],
          "name": "stdout"
        }
      ]
    },
    {
      "cell_type": "code",
      "metadata": {
        "id": "x4sgjJtptelU",
        "colab_type": "code",
        "colab": {
          "base_uri": "https://localhost:8080/",
          "height": 34
        },
        "outputId": "afaf5196-01ec-4bbe-cf18-f4b3f292c57e"
      },
      "source": [
        "#navigate to a desired path in drive and first upload an image dataset (in this case it is Tr0.zip)\n",
        "#set the path accordingly\n",
        "!ls \"/content/drive/My Drive/BidwatPhotosSample/\" # shows all files in your google drive root, including the project data file Tr0\n",
        "path = \"/content/drive/My Drive/BidwatPhotosSample/\" # sets the path to the root with the file Tr0"
      ],
      "execution_count": null,
      "outputs": [
        {
          "output_type": "stream",
          "text": [
            "Tr0  Tr0.zip\n"
          ],
          "name": "stdout"
        }
      ]
    },
    {
      "cell_type": "markdown",
      "metadata": {
        "id": "hTGCUN4ntxs2",
        "colab_type": "text"
      },
      "source": [
        "Unzip Images:"
      ]
    },
    {
      "cell_type": "code",
      "metadata": {
        "id": "laJPFafFt2dy",
        "colab_type": "code",
        "colab": {
          "base_uri": "https://localhost:8080/",
          "height": 212
        },
        "outputId": "7a3fb5d7-9059-4858-d9f7-889882b1003c"
      },
      "source": [
        "import os     # loads a library to work with data files\n",
        "os.chdir(path) \n",
        "dnam = 'Tr0'\n",
        "!unzip -q {dnam} # unzups the project file Tr0"
      ],
      "execution_count": null,
      "outputs": [
        {
          "output_type": "error",
          "ename": "NameError",
          "evalue": "ignored",
          "traceback": [
            "\u001b[0;31m---------------------------------------------------------------------------\u001b[0m",
            "\u001b[0;31mNameError\u001b[0m                                 Traceback (most recent call last)",
            "\u001b[0;32m<ipython-input-1-6e26e63fa1ab>\u001b[0m in \u001b[0;36m<module>\u001b[0;34m()\u001b[0m\n\u001b[1;32m      1\u001b[0m \u001b[0;32mimport\u001b[0m \u001b[0mos\u001b[0m     \u001b[0;31m# loads a library to work with data files\u001b[0m\u001b[0;34m\u001b[0m\u001b[0;34m\u001b[0m\u001b[0m\n\u001b[0;32m----> 2\u001b[0;31m \u001b[0mos\u001b[0m\u001b[0;34m.\u001b[0m\u001b[0mchdir\u001b[0m\u001b[0;34m(\u001b[0m\u001b[0mpath\u001b[0m\u001b[0;34m)\u001b[0m\u001b[0;34m\u001b[0m\u001b[0;34m\u001b[0m\u001b[0m\n\u001b[0m\u001b[1;32m      3\u001b[0m \u001b[0mdnam\u001b[0m \u001b[0;34m=\u001b[0m \u001b[0;34m'Tr0'\u001b[0m\u001b[0;34m\u001b[0m\u001b[0;34m\u001b[0m\u001b[0m\n\u001b[1;32m      4\u001b[0m \u001b[0mget_ipython\u001b[0m\u001b[0;34m(\u001b[0m\u001b[0;34m)\u001b[0m\u001b[0;34m.\u001b[0m\u001b[0msystem\u001b[0m\u001b[0;34m(\u001b[0m\u001b[0;34m'unzip -q {dnam} # unzups the project file Tr0'\u001b[0m\u001b[0;34m)\u001b[0m\u001b[0;34m\u001b[0m\u001b[0;34m\u001b[0m\u001b[0m\n",
            "\u001b[0;31mNameError\u001b[0m: name 'path' is not defined"
          ]
        }
      ]
    },
    {
      "cell_type": "markdown",
      "metadata": {
        "id": "vdbGtysPuN_0",
        "colab_type": "text"
      },
      "source": [
        "List of Images In Directory:"
      ]
    },
    {
      "cell_type": "code",
      "metadata": {
        "id": "iZQyyeKTuTdk",
        "colab_type": "code",
        "colab": {
          "base_uri": "https://localhost:8080/",
          "height": 34
        },
        "outputId": "cd47261b-c62e-4e2f-de1b-80a6dd0701b1"
      },
      "source": [
        "from os import listdir # loads a library to work with directories \n",
        "fls = listdir(path + dnam) # creates a list of all image files\n",
        "n = len(fls) # the number of the image files  \n",
        "print('Number of images %i' % n)"
      ],
      "execution_count": null,
      "outputs": [
        {
          "output_type": "stream",
          "text": [
            "Number of images 1500\n"
          ],
          "name": "stdout"
        }
      ]
    },
    {
      "cell_type": "markdown",
      "metadata": {
        "id": "ggLmkKHOu-Tl",
        "colab_type": "text"
      },
      "source": [
        "Display First Image"
      ]
    },
    {
      "cell_type": "code",
      "metadata": {
        "id": "XOmDM2-tu_2g",
        "colab_type": "code",
        "colab": {
          "base_uri": "https://localhost:8080/",
          "height": 285
        },
        "outputId": "d34bdf1a-d5f6-46f6-f2dd-048cf7e7db77"
      },
      "source": [
        "from matplotlib import image # loads a library to work with images\n",
        "from matplotlib import pyplot # loads a library to plot images\n",
        "im1 = image.imread(path + dnam + '/' + fls[0]) # chooses 1st image from the image list\n",
        "print(im1.shape) # prints the size in pixels of the chosen image \n",
        "pyplot.imshow(im1, cmap=pyplot.cm.gray) # displays the image\n",
        "pyplot.show()"
      ],
      "execution_count": null,
      "outputs": [
        {
          "output_type": "stream",
          "text": [
            "(77, 68)\n"
          ],
          "name": "stdout"
        },
        {
          "output_type": "display_data",
          "data": {
            "image/png": "[encoded data removed]",
            "text/plain": [
              "<Figure size 432x288 with 1 Axes>"
            ]
          },
          "metadata": {
            "tags": []
          }
        }
      ]
    },
    {
      "cell_type": "markdown",
      "metadata": {
        "id": "6zxKz-uOvfWs",
        "colab_type": "text"
      },
      "source": [
        "Create triaining data for ANN. \n",
        "making a n*m matrix where n= no of datum (1500) and m = h_pixels *v_pixels and storing the data in the files. \n",
        "Also defining the labels from filenames and storing it in an n*1 array."
      ]
    },
    {
      "cell_type": "code",
      "metadata": {
        "id": "AE6_W4t5vfvq",
        "colab_type": "code",
        "colab": {}
      },
      "source": [
        "# loads a library for working with matrixes \n",
        "import numpy as np \n",
        "\n",
        "# m = h*w = (77*68=5236) is the number of pixels in images\n",
        "m=im1.shape[0]*im1.shape[1]  \n",
        "\n",
        "# creates a nxm-matrix of the images\n",
        "images_data = np.zeros((n, m)) \n",
        "\n",
        " # creates a n*1 matrix of targets which are the person labels 1 tp 30\n",
        "images_target = np.zeros((n,)) \n",
        "# loops over all n=1500 images \n",
        "for i in range(0, n):\n",
        "  filename = fls[i]  # loads a name of the image file\n",
        "  img = image.imread(path + dnam + '/' + filename) # loads the image name\n",
        "  images_data[i,:] = np.ravel(img) # vectorisation of the image \n",
        "  c = int(filename[5:7])  # extracts the class label from the file name\n",
        "  images_target[i] = c  # assigns the target "
      ],
      "execution_count": null,
      "outputs": []
    },
    {
      "cell_type": "code",
      "metadata": {
        "id": "ZN9g0dP4xR7w",
        "colab_type": "code",
        "colab": {}
      },
      "source": [
        "# for i in range (0, n): #don't need to run thid\n",
        "#   if i % 10 == 0:\n",
        "#     print('> loaded %s %s %s' % (i, filename, c)) # prints the image name"
      ],
      "execution_count": null,
      "outputs": []
    },
    {
      "cell_type": "markdown",
      "metadata": {
        "id": "EJPp3v4q0d5N",
        "colab_type": "text"
      },
      "source": [
        "Save the data (processed and made ready for classification"
      ]
    },
    {
      "cell_type": "code",
      "metadata": {
        "id": "y36OOzDs0rCT",
        "colab_type": "code",
        "colab": {}
      },
      "source": [
        "from numpy import asarray # loads a library for saving matrices\n",
        "from numpy import save\n",
        "# save as a .npy file\n",
        "fn = (path + '/' + 'yaleExtB_data.npy') # creates the file name for the image data\n",
        "save(fn, images_data) \n",
        "fn = (path + '/' + 'yaleExtB_target.npy') # creates the file name for the targets\n",
        "save(fn, images_target)"
      ],
      "execution_count": null,
      "outputs": []
    },
    {
      "cell_type": "code",
      "metadata": {
        "id": "V7GV73gG03rc",
        "colab_type": "code",
        "colab": {
          "base_uri": "https://localhost:8080/",
          "height": 34
        },
        "outputId": "fd828f52-53f8-43b6-c9dc-1c5319d42d33"
      },
      "source": [
        "# shows the files in the root, including 2 files *.npy \n",
        "!ls \"/content/drive/My Drive/BidwatPhotosSample/\""
      ],
      "execution_count": null,
      "outputs": [
        {
          "output_type": "stream",
          "text": [
            "Tr0  Tr0.zip  yaleExtB_data.npy  yaleExtB_target.npy\n"
          ],
          "name": "stdout"
        }
      ]
    }
  ]
}