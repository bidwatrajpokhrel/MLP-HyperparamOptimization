{
  "nbformat": 4,
  "nbformat_minor": 0,
  "metadata": {
    "colab": {
      "name": "5_RandomSearch.ipynb",
      "provenance": [],
      "collapsed_sections": [],
      "mount_file_id": "1ouybPz4Wn6pDYFe3iW1eZgJMk3O85-4g",
      "authorship_tag": "ABX9TyPCc/eOoroFOQ87DLfxUH4H",
      "include_colab_link": true
    },
    "kernelspec": {
      "name": "python3",
      "display_name": "Python 3"
    },
    "accelerator": "GPU"
  },
  "cells": [
    {
      "cell_type": "markdown",
      "metadata": {
        "id": "view-in-github",
        "colab_type": "text"
      },
      "source": [
        "<a href=\"https://colab.research.google.com/github/bidwatrajpokhrel/MLP-HyperparamOptimization/blob/master/5_RandomSearch.ipynb\" target=\"_parent\"><img src=\"https://colab.research.google.com/assets/colab-badge.svg\" alt=\"Open In Colab\"/></a>"
      ]
    },
    {
      "cell_type": "code",
      "metadata": {
        "id": "n4bop5SH5Prr",
        "colab_type": "code",
        "colab": {}
      },
      "source": [
        "from IPython import display"
      ],
      "execution_count": null,
      "outputs": []
    },
    {
      "cell_type": "code",
      "metadata": {
        "id": "XxpEosoR1cGj",
        "colab_type": "code",
        "colab": {}
      },
      "source": [
        "#from google.colab import drive # mounts the google drive for a new notebook \n",
        "#drive.mount('/content/drive')"
      ],
      "execution_count": null,
      "outputs": []
    },
    {
      "cell_type": "code",
      "metadata": {
        "id": "a4M1SG-o3HW2",
        "colab_type": "code",
        "colab": {}
      },
      "source": [
        "# load the 2 npy files created by the process_yale_images.ipynb \n",
        "from numpy import load\n",
        "import numpy as np\n",
        "path = '/content/drive/My Drive/BidwatPhotosSample/'\n",
        "# load array\n",
        "y = load(path + 'yaleExtB_target.npy')\n",
        "X  = load(path + 'yaleExtB_data.npy')"
      ],
      "execution_count": null,
      "outputs": []
    },
    {
      "cell_type": "code",
      "metadata": {
        "id": "0LW_M7DU3WiM",
        "colab_type": "code",
        "colab": {}
      },
      "source": [
        "from sklearn.model_selection import train_test_split # loads functions from the ML library sklearn \n",
        "from sklearn.metrics import classification_report\n",
        "from sklearn.decomposition import PCA\n",
        "from sklearn.neural_network import MLPClassifier\n",
        "from sklearn.model_selection import RandomizedSearchCV\n",
        "from sklearn.model_selection import cross_val_score\n",
        "from datetime import datetime\n",
        "import random\n",
        "import pandas as pd"
      ],
      "execution_count": null,
      "outputs": []
    },
    {
      "cell_type": "code",
      "metadata": {
        "id": "JPEXhNyy6ldJ",
        "colab_type": "code",
        "colab": {}
      },
      "source": [
        "# split into a training and testing set\n",
        "X_train, X_test, y_train, y_test = train_test_split(X, y, test_size=0.1)"
      ],
      "execution_count": null,
      "outputs": []
    },
    {
      "cell_type": "code",
      "metadata": {
        "id": "iLYjJr1v8FQo",
        "colab_type": "code",
        "colab": {}
      },
      "source": [
        "# PCA \n",
        "nof_prin_components = 200  # PARAMETER for optimisation in expereiments\n",
        "pca = PCA(n_components=nof_prin_components, whiten=True).fit(X_train)\n",
        "# applies PCA to the train and test images to calculate the principal components\n",
        "X_train_pca = pca.transform(X_train) \n",
        "X_test_pca = pca.transform(X_test)\n",
        "X_pca = pca.transform(X)"
      ],
      "execution_count": null,
      "outputs": []
    },
    {
      "cell_type": "code",
      "metadata": {
        "id": "MD6P8wQ3A0xy",
        "colab_type": "code",
        "colab": {}
      },
      "source": [
        "hls = [random.randrange(100, 2001, 50) for i in range(20)]"
      ],
      "execution_count": null,
      "outputs": []
    },
    {
      "cell_type": "code",
      "metadata": {
        "id": "Jz_D1xeTaR0C",
        "colab_type": "code",
        "colab": {}
      },
      "source": [
        "params = {\n",
        "    'hidden_layer_sizes': hls,\n",
        "    'solver':['lbfgs','sgd', 'adam'],\n",
        "    'activation':['identity', 'logistic', 'tanh', 'relu'],\n",
        "    'learning_rate_init': [0.1, 0.01, 0.001],\n",
        "    'max_iter': [300],\n",
        "    'batch_size': [random.randrange(100, 501, 50) for i in range(10)],\n",
        "}"
      ],
      "execution_count": null,
      "outputs": []
    },
    {
      "cell_type": "code",
      "metadata": {
        "id": "nh1Jyfrbcb0g",
        "colab_type": "code",
        "colab": {}
      },
      "source": [
        "clf = RandomizedSearchCV(MLPClassifier(), params, n_jobs=-1, n_iter=10, cv=10, return_train_score=True, verbose=100)"
      ],
      "execution_count": null,
      "outputs": []
    },
    {
      "cell_type": "code",
      "metadata": {
        "id": "5ljAbSERzKd3",
        "colab_type": "code",
        "colab": {
          "base_uri": "https://localhost:8080/",
          "height": 200
        },
        "outputId": "528bfbcc-821c-49d7-b11d-8fc7e87d87e2"
      },
      "source": [
        "start = datetime.now()\n",
        "a = clf.fit(X_pca, y)\n",
        "stop=datetime.now()\n",
        "display.Javascript(\"google.colab.output.setIframeHeight('200px');\")"
      ],
      "execution_count": null,
      "outputs": [
        {
          "output_type": "stream",
          "text": [
            "Fitting 10 folds for each of 10 candidates, totalling 100 fits\n",
            "[Parallel(n_jobs=-1)]: Using backend LokyBackend with 2 concurrent workers.\n",
            "[Parallel(n_jobs=-1)]: Done   1 tasks      | elapsed:    1.9s\n",
            "[Parallel(n_jobs=-1)]: Done   2 tasks      | elapsed:    2.0s\n",
            "[Parallel(n_jobs=-1)]: Done   3 tasks      | elapsed:    3.1s\n",
            "[Parallel(n_jobs=-1)]: Done   4 tasks      | elapsed:    3.1s\n",
            "[Parallel(n_jobs=-1)]: Done   5 tasks      | elapsed:    4.1s\n",
            "[Parallel(n_jobs=-1)]: Done   6 tasks      | elapsed:    4.1s\n",
            "[Parallel(n_jobs=-1)]: Done   7 tasks      | elapsed:    5.2s\n",
            "[Parallel(n_jobs=-1)]: Done   8 tasks      | elapsed:    5.3s\n",
            "[Parallel(n_jobs=-1)]: Done   9 tasks      | elapsed:    6.3s\n",
            "[Parallel(n_jobs=-1)]: Done  10 tasks      | elapsed:    6.5s\n",
            "[Parallel(n_jobs=-1)]: Done  11 tasks      | elapsed:   12.2s\n",
            "[Parallel(n_jobs=-1)]: Done  12 tasks      | elapsed:   14.2s\n",
            "[Parallel(n_jobs=-1)]: Done  13 tasks      | elapsed:   20.1s\n",
            "[Parallel(n_jobs=-1)]: Done  14 tasks      | elapsed:   22.1s\n",
            "[Parallel(n_jobs=-1)]: Done  15 tasks      | elapsed:   27.8s\n",
            "[Parallel(n_jobs=-1)]: Done  16 tasks      | elapsed:   29.6s\n",
            "[Parallel(n_jobs=-1)]: Done  17 tasks      | elapsed:   35.6s\n",
            "[Parallel(n_jobs=-1)]: Done  18 tasks      | elapsed:   37.4s\n",
            "[Parallel(n_jobs=-1)]: Done  19 tasks      | elapsed:   43.4s\n",
            "[Parallel(n_jobs=-1)]: Done  20 tasks      | elapsed:   45.6s\n",
            "[Parallel(n_jobs=-1)]: Done  21 tasks      | elapsed:   47.6s\n",
            "[Parallel(n_jobs=-1)]: Done  22 tasks      | elapsed:   50.8s\n",
            "[Parallel(n_jobs=-1)]: Done  23 tasks      | elapsed:   53.2s\n",
            "[Parallel(n_jobs=-1)]: Done  24 tasks      | elapsed:   56.4s\n",
            "[Parallel(n_jobs=-1)]: Done  25 tasks      | elapsed:   58.5s\n",
            "[Parallel(n_jobs=-1)]: Done  26 tasks      | elapsed:  1.0min\n",
            "[Parallel(n_jobs=-1)]: Done  27 tasks      | elapsed:  1.1min\n",
            "[Parallel(n_jobs=-1)]: Done  28 tasks      | elapsed:  1.1min\n",
            "[Parallel(n_jobs=-1)]: Done  29 tasks      | elapsed:  1.2min\n",
            "[Parallel(n_jobs=-1)]: Done  30 tasks      | elapsed:  1.2min\n",
            "[Parallel(n_jobs=-1)]: Done  31 tasks      | elapsed:  1.3min\n",
            "[Parallel(n_jobs=-1)]: Done  32 tasks      | elapsed:  1.4min\n",
            "[Parallel(n_jobs=-1)]: Done  33 tasks      | elapsed:  1.4min\n",
            "[Parallel(n_jobs=-1)]: Done  34 tasks      | elapsed:  1.4min\n",
            "[Parallel(n_jobs=-1)]: Done  35 tasks      | elapsed:  1.5min\n",
            "[Parallel(n_jobs=-1)]: Done  36 tasks      | elapsed:  1.6min\n",
            "[Parallel(n_jobs=-1)]: Done  37 tasks      | elapsed:  1.7min\n",
            "[Parallel(n_jobs=-1)]: Done  38 tasks      | elapsed:  1.7min\n",
            "[Parallel(n_jobs=-1)]: Done  39 tasks      | elapsed:  1.8min\n",
            "[Parallel(n_jobs=-1)]: Done  40 tasks      | elapsed:  1.8min\n",
            "[Parallel(n_jobs=-1)]: Done  41 tasks      | elapsed:  1.8min\n",
            "[Parallel(n_jobs=-1)]: Done  42 tasks      | elapsed:  1.8min\n",
            "[Parallel(n_jobs=-1)]: Done  43 tasks      | elapsed:  1.8min\n",
            "[Parallel(n_jobs=-1)]: Done  44 tasks      | elapsed:  1.8min\n",
            "[Parallel(n_jobs=-1)]: Done  45 tasks      | elapsed:  1.8min\n",
            "[Parallel(n_jobs=-1)]: Done  46 tasks      | elapsed:  1.8min\n",
            "[Parallel(n_jobs=-1)]: Done  47 tasks      | elapsed:  1.8min\n",
            "[Parallel(n_jobs=-1)]: Done  48 tasks      | elapsed:  1.8min\n",
            "[Parallel(n_jobs=-1)]: Done  49 tasks      | elapsed:  1.8min\n",
            "[Parallel(n_jobs=-1)]: Done  50 tasks      | elapsed:  1.8min\n",
            "[Parallel(n_jobs=-1)]: Done  51 tasks      | elapsed:  2.6min\n",
            "[Parallel(n_jobs=-1)]: Done  52 tasks      | elapsed:  2.6min\n",
            "[Parallel(n_jobs=-1)]: Done  53 tasks      | elapsed:  3.4min\n",
            "[Parallel(n_jobs=-1)]: Done  54 tasks      | elapsed:  3.4min\n",
            "[Parallel(n_jobs=-1)]: Done  55 tasks      | elapsed:  4.2min\n",
            "[Parallel(n_jobs=-1)]: Done  56 tasks      | elapsed:  4.2min\n",
            "[Parallel(n_jobs=-1)]: Done  57 tasks      | elapsed:  4.9min\n",
            "[Parallel(n_jobs=-1)]: Done  58 tasks      | elapsed:  4.9min\n",
            "[Parallel(n_jobs=-1)]: Done  59 tasks      | elapsed:  5.7min\n",
            "[Parallel(n_jobs=-1)]: Done  60 tasks      | elapsed:  5.7min\n",
            "[Parallel(n_jobs=-1)]: Done  61 tasks      | elapsed:  6.0min\n",
            "[Parallel(n_jobs=-1)]: Done  62 tasks      | elapsed:  6.0min\n",
            "[Parallel(n_jobs=-1)]: Done  63 tasks      | elapsed:  6.3min\n",
            "[Parallel(n_jobs=-1)]: Done  64 tasks      | elapsed:  6.3min\n",
            "[Parallel(n_jobs=-1)]: Done  65 tasks      | elapsed:  6.6min\n",
            "[Parallel(n_jobs=-1)]: Done  66 tasks      | elapsed:  6.6min\n",
            "[Parallel(n_jobs=-1)]: Done  67 tasks      | elapsed:  6.8min\n",
            "[Parallel(n_jobs=-1)]: Done  68 tasks      | elapsed:  6.9min\n",
            "[Parallel(n_jobs=-1)]: Done  69 tasks      | elapsed:  7.1min\n",
            "[Parallel(n_jobs=-1)]: Done  70 tasks      | elapsed:  7.1min\n",
            "[Parallel(n_jobs=-1)]: Done  71 tasks      | elapsed:  7.6min\n",
            "[Parallel(n_jobs=-1)]: Done  72 tasks      | elapsed:  7.6min\n",
            "[Parallel(n_jobs=-1)]: Done  73 tasks      | elapsed:  8.0min\n",
            "[Parallel(n_jobs=-1)]: Done  74 tasks      | elapsed:  8.0min\n",
            "[Parallel(n_jobs=-1)]: Done  75 tasks      | elapsed:  8.4min\n",
            "[Parallel(n_jobs=-1)]: Done  76 tasks      | elapsed:  8.4min\n",
            "[Parallel(n_jobs=-1)]: Done  77 tasks      | elapsed:  8.8min\n",
            "[Parallel(n_jobs=-1)]: Done  78 tasks      | elapsed:  8.8min\n",
            "[Parallel(n_jobs=-1)]: Done  79 tasks      | elapsed:  9.3min\n",
            "[Parallel(n_jobs=-1)]: Done  80 tasks      | elapsed:  9.3min\n",
            "[Parallel(n_jobs=-1)]: Done  81 tasks      | elapsed:  9.3min\n",
            "[Parallel(n_jobs=-1)]: Done  82 tasks      | elapsed:  9.3min\n",
            "[Parallel(n_jobs=-1)]: Done  83 tasks      | elapsed:  9.3min\n",
            "[Parallel(n_jobs=-1)]: Done  84 tasks      | elapsed:  9.3min\n",
            "[Parallel(n_jobs=-1)]: Done  85 tasks      | elapsed:  9.3min\n",
            "[Parallel(n_jobs=-1)]: Done  86 tasks      | elapsed:  9.3min\n",
            "[Parallel(n_jobs=-1)]: Done  87 tasks      | elapsed:  9.3min\n",
            "[Parallel(n_jobs=-1)]: Done  88 tasks      | elapsed:  9.3min\n",
            "[Parallel(n_jobs=-1)]: Done  89 tasks      | elapsed:  9.4min\n",
            "[Parallel(n_jobs=-1)]: Done  90 tasks      | elapsed:  9.4min\n",
            "[Parallel(n_jobs=-1)]: Done  91 tasks      | elapsed:  9.4min\n",
            "[Parallel(n_jobs=-1)]: Done  92 tasks      | elapsed:  9.4min\n",
            "[Parallel(n_jobs=-1)]: Done  93 tasks      | elapsed:  9.5min\n",
            "[Parallel(n_jobs=-1)]: Done  94 tasks      | elapsed:  9.5min\n",
            "[Parallel(n_jobs=-1)]: Done  95 tasks      | elapsed:  9.5min\n",
            "[Parallel(n_jobs=-1)]: Done  96 tasks      | elapsed:  9.6min\n",
            "[Parallel(n_jobs=-1)]: Done  97 tasks      | elapsed:  9.6min\n",
            "[Parallel(n_jobs=-1)]: Done 100 out of 100 | elapsed:  9.7min finished\n"
          ],
          "name": "stdout"
        },
        {
          "output_type": "stream",
          "text": [
            "/usr/local/lib/python3.6/dist-packages/sklearn/neural_network/_multilayer_perceptron.py:571: ConvergenceWarning: Stochastic Optimizer: Maximum iterations (300) reached and the optimization hasn't converged yet.\n",
            "  % self.max_iter, ConvergenceWarning)\n"
          ],
          "name": "stderr"
        },
        {
          "output_type": "execute_result",
          "data": {
            "application/javascript": [
              "google.colab.output.setIframeHeight('200px');"
            ],
            "text/plain": [
              "<IPython.core.display.Javascript object>"
            ]
          },
          "metadata": {
            "tags": []
          },
          "execution_count": 103
        }
      ]
    },
    {
      "cell_type": "code",
      "metadata": {
        "id": "NsePSY6DrZhv",
        "colab_type": "code",
        "colab": {
          "base_uri": "https://localhost:8080/",
          "height": 34
        },
        "outputId": "91d8bdcc-cbab-4ab5-a9d3-0e25c38b2b36"
      },
      "source": [
        "print(stop-start)"
      ],
      "execution_count": null,
      "outputs": [
        {
          "output_type": "stream",
          "text": [
            "0:10:01.779313\n"
          ],
          "name": "stdout"
        }
      ]
    },
    {
      "cell_type": "code",
      "metadata": {
        "id": "JGlkvY2R5iKz",
        "colab_type": "code",
        "colab": {
          "base_uri": "https://localhost:8080/",
          "height": 118
        },
        "outputId": "b73ed524-fa00-4cd0-8a0c-4c138b3001bf"
      },
      "source": [
        "a.best_params_"
      ],
      "execution_count": null,
      "outputs": [
        {
          "output_type": "execute_result",
          "data": {
            "text/plain": [
              "{'activation': 'logistic',\n",
              " 'batch_size': 400,\n",
              " 'hidden_layer_sizes': 450,\n",
              " 'learning_rate_init': 0.01,\n",
              " 'max_iter': 300,\n",
              " 'solver': 'sgd'}"
            ]
          },
          "metadata": {
            "tags": []
          },
          "execution_count": 105
        }
      ]
    },
    {
      "cell_type": "code",
      "metadata": {
        "id": "IFJ6Cyt65wPj",
        "colab_type": "code",
        "colab": {
          "base_uri": "https://localhost:8080/",
          "height": 34
        },
        "outputId": "803b382e-28f5-42d7-fbd6-ab838a97d102"
      },
      "source": [
        "a.best_score_"
      ],
      "execution_count": null,
      "outputs": [
        {
          "output_type": "execute_result",
          "data": {
            "text/plain": [
              "0.9833333333333334"
            ]
          },
          "metadata": {
            "tags": []
          },
          "execution_count": 106
        }
      ]
    },
    {
      "cell_type": "code",
      "metadata": {
        "id": "WfNFeF-K54z7",
        "colab_type": "code",
        "colab": {
          "base_uri": "https://localhost:8080/",
          "height": 151
        },
        "outputId": "a00b384b-5b7a-4fe2-ee37-893e6aab28be"
      },
      "source": [
        "MLPC=a.best_estimator_\n",
        "print(MLPC)"
      ],
      "execution_count": null,
      "outputs": [
        {
          "output_type": "stream",
          "text": [
            "MLPClassifier(activation='logistic', alpha=0.0001, batch_size=400, beta_1=0.9,\n",
            "              beta_2=0.999, early_stopping=False, epsilon=1e-08,\n",
            "              hidden_layer_sizes=450, learning_rate='constant',\n",
            "              learning_rate_init=0.01, max_fun=15000, max_iter=300,\n",
            "              momentum=0.9, n_iter_no_change=10, nesterovs_momentum=True,\n",
            "              power_t=0.5, random_state=None, shuffle=True, solver='sgd',\n",
            "              tol=0.0001, validation_fraction=0.1, verbose=False,\n",
            "              warm_start=False)\n"
          ],
          "name": "stdout"
        }
      ]
    },
    {
      "cell_type": "code",
      "metadata": {
        "id": "hA0KFPoghhWj",
        "colab_type": "code",
        "colab": {}
      },
      "source": [
        "f = cross_val_score(MLPC, X_pca, y, cv=10)"
      ],
      "execution_count": null,
      "outputs": []
    },
    {
      "cell_type": "code",
      "metadata": {
        "id": "lWeIqlm1iCFT",
        "colab_type": "code",
        "colab": {
          "base_uri": "https://localhost:8080/",
          "height": 87
        },
        "outputId": "02e8bce4-1bad-4b60-e769-b1fbf384a7a2"
      },
      "source": [
        "print(\"Cross Validation:\", f)\n",
        "print(\"Cross Validation Mean:\", f.mean())"
      ],
      "execution_count": null,
      "outputs": [
        {
          "output_type": "stream",
          "text": [
            "Cross Validation: [0.96666667 1.         1.         1.         0.99333333 0.94666667\n",
            " 0.96666667 1.         0.98       0.96666667]\n",
            "Cross Validation Mean: 0.982\n"
          ],
          "name": "stdout"
        }
      ]
    },
    {
      "cell_type": "code",
      "metadata": {
        "id": "T_76kTS96rLN",
        "colab_type": "code",
        "colab": {}
      },
      "source": [
        "# pd.DataFrame(a.cv_results_)"
      ],
      "execution_count": null,
      "outputs": []
    },
    {
      "cell_type": "code",
      "metadata": {
        "id": "5iVq8GTecvrh",
        "colab_type": "code",
        "colab": {}
      },
      "source": [
        "import pandas as pd\n",
        "pvt = pd.pivot_table(pd.DataFrame(a.cv_results_),\n",
        "    values='mean_test_score', index='param_solver', columns='param_hidden_layer_sizes')"
      ],
      "execution_count": null,
      "outputs": []
    },
    {
      "cell_type": "code",
      "metadata": {
        "id": "vyhRaTqBZIOE",
        "colab_type": "code",
        "colab": {
          "base_uri": "https://localhost:8080/",
          "height": 330
        },
        "outputId": "f6c91b2b-09c4-464d-e14b-a6f8d27425b4"
      },
      "source": [
        "import seaborn as sns  \n",
        "print(\"\\n\\n\")     \n",
        "ax = sns.heatmap(pvt)"
      ],
      "execution_count": null,
      "outputs": [
        {
          "output_type": "stream",
          "text": [
            "\n",
            "\n",
            "\n"
          ],
          "name": "stdout"
        },
        {
          "output_type": "display_data",
          "data": {
            "image/png": "[encoded data removed]",
            "text/plain": [
              "<Figure size 432x288 with 2 Axes>"
            ]
          },
          "metadata": {
            "tags": [],
            "needs_background": "light"
          }
        }
      ]
    }
  ]
}