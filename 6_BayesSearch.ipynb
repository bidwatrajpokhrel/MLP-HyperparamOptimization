{
  "nbformat": 4,
  "nbformat_minor": 0,
  "metadata": {
    "colab": {
      "name": "6_BayesSearch.ipynb",
      "provenance": [],
      "collapsed_sections": [],
      "mount_file_id": "1ugJzT8MDsSMIbE3Rnu9TeTRcbboj6Wm7",
      "authorship_tag": "ABX9TyNwbSemNQ2XmVn6qjmVynW3",
      "include_colab_link": true
    },
    "kernelspec": {
      "name": "python3",
      "display_name": "Python 3"
    }
  },
  "cells": [
    {
      "cell_type": "markdown",
      "metadata": {
        "id": "view-in-github",
        "colab_type": "text"
      },
      "source": [
        "<a href=\"https://colab.research.google.com/github/bidwatrajpokhrel/MLP-HyperparamOptimization/blob/master/6_BayesSearch.ipynb\" target=\"_parent\"><img src=\"https://colab.research.google.com/assets/colab-badge.svg\" alt=\"Open In Colab\"/></a>"
      ]
    },
    {
      "cell_type": "code",
      "metadata": {
        "id": "n4bop5SH5Prr",
        "colab_type": "code",
        "colab": {
          "base_uri": "https://localhost:8080/",
          "height": 134
        },
        "outputId": "268ecfc3-343a-4307-834d-788c2e4bd0ad"
      },
      "source": [
        "pip install scikit-optimize"
      ],
      "execution_count": null,
      "outputs": [
        {
          "output_type": "stream",
          "text": [
            "Requirement already satisfied: scikit-optimize in /usr/local/lib/python3.6/dist-packages (0.7.4)\n",
            "Requirement already satisfied: pyaml>=16.9 in /usr/local/lib/python3.6/dist-packages (from scikit-optimize) (20.4.0)\n",
            "Requirement already satisfied: scikit-learn>=0.19.1 in /usr/local/lib/python3.6/dist-packages (from scikit-optimize) (0.22.2.post1)\n",
            "Requirement already satisfied: joblib>=0.11 in /usr/local/lib/python3.6/dist-packages (from scikit-optimize) (0.15.1)\n",
            "Requirement already satisfied: numpy>=1.11.0 in /usr/local/lib/python3.6/dist-packages (from scikit-optimize) (1.18.5)\n",
            "Requirement already satisfied: scipy>=0.18.0 in /usr/local/lib/python3.6/dist-packages (from scikit-optimize) (1.4.1)\n",
            "Requirement already satisfied: PyYAML in /usr/local/lib/python3.6/dist-packages (from pyaml>=16.9->scikit-optimize) (3.13)\n"
          ],
          "name": "stdout"
        }
      ]
    },
    {
      "cell_type": "code",
      "metadata": {
        "id": "XxpEosoR1cGj",
        "colab_type": "code",
        "colab": {}
      },
      "source": [
        "#from google.colab import drive # mounts the google drive for a new notebook \n",
        "#drive.mount('/content/drive')"
      ],
      "execution_count": null,
      "outputs": []
    },
    {
      "cell_type": "code",
      "metadata": {
        "id": "a4M1SG-o3HW2",
        "colab_type": "code",
        "colab": {}
      },
      "source": [
        "# load the 2 npy files created by the process_yale_images.ipynb \n",
        "from numpy import load\n",
        "import numpy as np\n",
        "path = '/content/drive/My Drive/BidwatPhotosSample/'\n",
        "# load array\n",
        "y = load(path + 'yaleExtB_target.npy')\n",
        "X  = load(path + 'yaleExtB_data.npy')"
      ],
      "execution_count": null,
      "outputs": []
    },
    {
      "cell_type": "code",
      "metadata": {
        "id": "0LW_M7DU3WiM",
        "colab_type": "code",
        "colab": {}
      },
      "source": [
        "from sklearn.metrics import classification_report\n",
        "from sklearn.decomposition import PCA\n",
        "from sklearn.neural_network import MLPClassifier\n",
        "from skopt import BayesSearchCV\n",
        "from skopt.space import Categorical, Integer\n",
        "from sklearn.model_selection import cross_val_score\n",
        "from IPython import display\n",
        "import pandas as pd\n",
        "from datetime import datetime"
      ],
      "execution_count": null,
      "outputs": []
    },
    {
      "cell_type": "code",
      "metadata": {
        "id": "iLYjJr1v8FQo",
        "colab_type": "code",
        "colab": {}
      },
      "source": [
        "# PCA \n",
        "nof_prin_components = 200  # PARAMETER for optimisation in expereiments\n",
        "pca = PCA(n_components=nof_prin_components, whiten=True).fit(X)\n",
        "# applies PCA to the train and test images to calculate the principal components\n",
        "X_pca = pca.transform(X)"
      ],
      "execution_count": null,
      "outputs": []
    },
    {
      "cell_type": "code",
      "metadata": {
        "id": "5sXfOwp_ANa5",
        "colab_type": "code",
        "colab": {}
      },
      "source": [
        "params = {\n",
        "  'hidden_layer_sizes': Integer(1,2000),\n",
        "  'solver': Categorical(['lbfgs','sgd','adam']),\n",
        "  'activation': Categorical(['tanh','relu']),\n",
        "  'batch_size': Integer(1,500),\n",
        "  'learning_rate': Categorical(['constant', 'invscaling', 'adaptive']),\n",
        "  'learning_rate_init':Categorical([0.1,0.01,0.001]),\n",
        "  'max_iter': [300]\n",
        "}"
      ],
      "execution_count": null,
      "outputs": []
    },
    {
      "cell_type": "code",
      "metadata": {
        "id": "X479_ynUTD8R",
        "colab_type": "code",
        "colab": {}
      },
      "source": [
        "clf = BayesSearchCV(MLPClassifier(), params, n_iter=5, cv=10, verbose=30,)"
      ],
      "execution_count": null,
      "outputs": []
    },
    {
      "cell_type": "code",
      "metadata": {
        "id": "zS8d6wEvVCbm",
        "colab_type": "code",
        "colab": {
          "base_uri": "https://localhost:8080/",
          "height": 200
        },
        "outputId": "b4c24f25-112f-478a-feca-1c020dd60a13"
      },
      "source": [
        "start = datetime.now()\n",
        "data = clf.fit(X_pca, y)\n",
        "stop = datetime.now()\n",
        "display.Javascript(\"google.colab.output.setIframeHeight('200px');\")"
      ],
      "execution_count": null,
      "outputs": [
        {
          "output_type": "stream",
          "text": [
            "Fitting 10 folds for each of 1 candidates, totalling 10 fits\n",
            "[CV] activation=tanh, batch_size=388, hidden_layer_sizes=1026, learning_rate=invscaling, learning_rate_init=0.01, max_iter=300, solver=sgd \n"
          ],
          "name": "stdout"
        },
        {
          "output_type": "stream",
          "text": [
            "[Parallel(n_jobs=1)]: Using backend SequentialBackend with 1 concurrent workers.\n",
            "/usr/local/lib/python3.6/dist-packages/sklearn/neural_network/_multilayer_perceptron.py:571: ConvergenceWarning: Stochastic Optimizer: Maximum iterations (300) reached and the optimization hasn't converged yet.\n",
            "  % self.max_iter, ConvergenceWarning)\n",
            "[Parallel(n_jobs=1)]: Done   1 out of   1 | elapsed:   45.9s remaining:    0.0s\n"
          ],
          "name": "stderr"
        },
        {
          "output_type": "stream",
          "text": [
            "[CV]  activation=tanh, batch_size=388, hidden_layer_sizes=1026, learning_rate=invscaling, learning_rate_init=0.01, max_iter=300, solver=sgd, score=0.547, total=  45.9s\n",
            "[CV] activation=tanh, batch_size=388, hidden_layer_sizes=1026, learning_rate=invscaling, learning_rate_init=0.01, max_iter=300, solver=sgd \n"
          ],
          "name": "stdout"
        },
        {
          "output_type": "stream",
          "text": [
            "/usr/local/lib/python3.6/dist-packages/sklearn/neural_network/_multilayer_perceptron.py:571: ConvergenceWarning: Stochastic Optimizer: Maximum iterations (300) reached and the optimization hasn't converged yet.\n",
            "  % self.max_iter, ConvergenceWarning)\n",
            "[Parallel(n_jobs=1)]: Done   2 out of   2 | elapsed:  1.5min remaining:    0.0s\n"
          ],
          "name": "stderr"
        },
        {
          "output_type": "stream",
          "text": [
            "[CV]  activation=tanh, batch_size=388, hidden_layer_sizes=1026, learning_rate=invscaling, learning_rate_init=0.01, max_iter=300, solver=sgd, score=0.653, total=  45.7s\n",
            "[CV] activation=tanh, batch_size=388, hidden_layer_sizes=1026, learning_rate=invscaling, learning_rate_init=0.01, max_iter=300, solver=sgd \n"
          ],
          "name": "stdout"
        },
        {
          "output_type": "stream",
          "text": [
            "/usr/local/lib/python3.6/dist-packages/sklearn/neural_network/_multilayer_perceptron.py:571: ConvergenceWarning: Stochastic Optimizer: Maximum iterations (300) reached and the optimization hasn't converged yet.\n",
            "  % self.max_iter, ConvergenceWarning)\n",
            "[Parallel(n_jobs=1)]: Done   3 out of   3 | elapsed:  2.3min remaining:    0.0s\n"
          ],
          "name": "stderr"
        },
        {
          "output_type": "stream",
          "text": [
            "[CV]  activation=tanh, batch_size=388, hidden_layer_sizes=1026, learning_rate=invscaling, learning_rate_init=0.01, max_iter=300, solver=sgd, score=0.787, total=  45.7s\n",
            "[CV] activation=tanh, batch_size=388, hidden_layer_sizes=1026, learning_rate=invscaling, learning_rate_init=0.01, max_iter=300, solver=sgd \n"
          ],
          "name": "stdout"
        },
        {
          "output_type": "stream",
          "text": [
            "/usr/local/lib/python3.6/dist-packages/sklearn/neural_network/_multilayer_perceptron.py:571: ConvergenceWarning: Stochastic Optimizer: Maximum iterations (300) reached and the optimization hasn't converged yet.\n",
            "  % self.max_iter, ConvergenceWarning)\n",
            "[Parallel(n_jobs=1)]: Done   4 out of   4 | elapsed:  3.0min remaining:    0.0s\n"
          ],
          "name": "stderr"
        },
        {
          "output_type": "stream",
          "text": [
            "[CV]  activation=tanh, batch_size=388, hidden_layer_sizes=1026, learning_rate=invscaling, learning_rate_init=0.01, max_iter=300, solver=sgd, score=0.387, total=  45.2s\n",
            "[CV] activation=tanh, batch_size=388, hidden_layer_sizes=1026, learning_rate=invscaling, learning_rate_init=0.01, max_iter=300, solver=sgd \n"
          ],
          "name": "stdout"
        },
        {
          "output_type": "stream",
          "text": [
            "/usr/local/lib/python3.6/dist-packages/sklearn/neural_network/_multilayer_perceptron.py:571: ConvergenceWarning: Stochastic Optimizer: Maximum iterations (300) reached and the optimization hasn't converged yet.\n",
            "  % self.max_iter, ConvergenceWarning)\n",
            "[Parallel(n_jobs=1)]: Done   5 out of   5 | elapsed:  3.8min remaining:    0.0s\n"
          ],
          "name": "stderr"
        },
        {
          "output_type": "stream",
          "text": [
            "[CV]  activation=tanh, batch_size=388, hidden_layer_sizes=1026, learning_rate=invscaling, learning_rate_init=0.01, max_iter=300, solver=sgd, score=0.207, total=  45.1s\n",
            "[CV] activation=tanh, batch_size=388, hidden_layer_sizes=1026, learning_rate=invscaling, learning_rate_init=0.01, max_iter=300, solver=sgd \n"
          ],
          "name": "stdout"
        },
        {
          "output_type": "stream",
          "text": [
            "/usr/local/lib/python3.6/dist-packages/sklearn/neural_network/_multilayer_perceptron.py:571: ConvergenceWarning: Stochastic Optimizer: Maximum iterations (300) reached and the optimization hasn't converged yet.\n",
            "  % self.max_iter, ConvergenceWarning)\n",
            "[Parallel(n_jobs=1)]: Done   6 out of   6 | elapsed:  4.6min remaining:    0.0s\n"
          ],
          "name": "stderr"
        },
        {
          "output_type": "stream",
          "text": [
            "[CV]  activation=tanh, batch_size=388, hidden_layer_sizes=1026, learning_rate=invscaling, learning_rate_init=0.01, max_iter=300, solver=sgd, score=0.260, total=  45.3s\n",
            "[CV] activation=tanh, batch_size=388, hidden_layer_sizes=1026, learning_rate=invscaling, learning_rate_init=0.01, max_iter=300, solver=sgd \n"
          ],
          "name": "stdout"
        },
        {
          "output_type": "stream",
          "text": [
            "/usr/local/lib/python3.6/dist-packages/sklearn/neural_network/_multilayer_perceptron.py:571: ConvergenceWarning: Stochastic Optimizer: Maximum iterations (300) reached and the optimization hasn't converged yet.\n",
            "  % self.max_iter, ConvergenceWarning)\n",
            "[Parallel(n_jobs=1)]: Done   7 out of   7 | elapsed:  5.3min remaining:    0.0s\n"
          ],
          "name": "stderr"
        },
        {
          "output_type": "stream",
          "text": [
            "[CV]  activation=tanh, batch_size=388, hidden_layer_sizes=1026, learning_rate=invscaling, learning_rate_init=0.01, max_iter=300, solver=sgd, score=0.540, total=  45.5s\n",
            "[CV] activation=tanh, batch_size=388, hidden_layer_sizes=1026, learning_rate=invscaling, learning_rate_init=0.01, max_iter=300, solver=sgd \n"
          ],
          "name": "stdout"
        },
        {
          "output_type": "stream",
          "text": [
            "/usr/local/lib/python3.6/dist-packages/sklearn/neural_network/_multilayer_perceptron.py:571: ConvergenceWarning: Stochastic Optimizer: Maximum iterations (300) reached and the optimization hasn't converged yet.\n",
            "  % self.max_iter, ConvergenceWarning)\n",
            "[Parallel(n_jobs=1)]: Done   8 out of   8 | elapsed:  6.1min remaining:    0.0s\n"
          ],
          "name": "stderr"
        },
        {
          "output_type": "stream",
          "text": [
            "[CV]  activation=tanh, batch_size=388, hidden_layer_sizes=1026, learning_rate=invscaling, learning_rate_init=0.01, max_iter=300, solver=sgd, score=0.653, total=  45.7s\n",
            "[CV] activation=tanh, batch_size=388, hidden_layer_sizes=1026, learning_rate=invscaling, learning_rate_init=0.01, max_iter=300, solver=sgd \n"
          ],
          "name": "stdout"
        },
        {
          "output_type": "stream",
          "text": [
            "/usr/local/lib/python3.6/dist-packages/sklearn/neural_network/_multilayer_perceptron.py:571: ConvergenceWarning: Stochastic Optimizer: Maximum iterations (300) reached and the optimization hasn't converged yet.\n",
            "  % self.max_iter, ConvergenceWarning)\n",
            "[Parallel(n_jobs=1)]: Done   9 out of   9 | elapsed:  6.8min remaining:    0.0s\n"
          ],
          "name": "stderr"
        },
        {
          "output_type": "stream",
          "text": [
            "[CV]  activation=tanh, batch_size=388, hidden_layer_sizes=1026, learning_rate=invscaling, learning_rate_init=0.01, max_iter=300, solver=sgd, score=0.420, total=  45.4s\n",
            "[CV] activation=tanh, batch_size=388, hidden_layer_sizes=1026, learning_rate=invscaling, learning_rate_init=0.01, max_iter=300, solver=sgd \n"
          ],
          "name": "stdout"
        },
        {
          "output_type": "stream",
          "text": [
            "/usr/local/lib/python3.6/dist-packages/sklearn/neural_network/_multilayer_perceptron.py:571: ConvergenceWarning: Stochastic Optimizer: Maximum iterations (300) reached and the optimization hasn't converged yet.\n",
            "  % self.max_iter, ConvergenceWarning)\n",
            "[Parallel(n_jobs=1)]: Done  10 out of  10 | elapsed:  7.6min remaining:    0.0s\n",
            "[Parallel(n_jobs=1)]: Done  10 out of  10 | elapsed:  7.6min finished\n",
            "[Parallel(n_jobs=1)]: Using backend SequentialBackend with 1 concurrent workers.\n"
          ],
          "name": "stderr"
        },
        {
          "output_type": "stream",
          "text": [
            "[CV]  activation=tanh, batch_size=388, hidden_layer_sizes=1026, learning_rate=invscaling, learning_rate_init=0.01, max_iter=300, solver=sgd, score=0.160, total=  45.4s\n",
            "Fitting 10 folds for each of 1 candidates, totalling 10 fits\n",
            "[CV] activation=tanh, batch_size=80, hidden_layer_sizes=1234, learning_rate=invscaling, learning_rate_init=0.001, max_iter=300, solver=lbfgs \n",
            "[CV]  activation=tanh, batch_size=80, hidden_layer_sizes=1234, learning_rate=invscaling, learning_rate_init=0.001, max_iter=300, solver=lbfgs, score=0.953, total=   1.0s\n",
            "[CV] activation=tanh, batch_size=80, hidden_layer_sizes=1234, learning_rate=invscaling, learning_rate_init=0.001, max_iter=300, solver=lbfgs \n"
          ],
          "name": "stdout"
        },
        {
          "output_type": "stream",
          "text": [
            "[Parallel(n_jobs=1)]: Done   1 out of   1 | elapsed:    1.0s remaining:    0.0s\n"
          ],
          "name": "stderr"
        },
        {
          "output_type": "stream",
          "text": [
            "[CV]  activation=tanh, batch_size=80, hidden_layer_sizes=1234, learning_rate=invscaling, learning_rate_init=0.001, max_iter=300, solver=lbfgs, score=1.000, total=   1.4s\n",
            "[CV] activation=tanh, batch_size=80, hidden_layer_sizes=1234, learning_rate=invscaling, learning_rate_init=0.001, max_iter=300, solver=lbfgs \n"
          ],
          "name": "stdout"
        },
        {
          "output_type": "stream",
          "text": [
            "[Parallel(n_jobs=1)]: Done   2 out of   2 | elapsed:    2.4s remaining:    0.0s\n"
          ],
          "name": "stderr"
        },
        {
          "output_type": "stream",
          "text": [
            "[CV]  activation=tanh, batch_size=80, hidden_layer_sizes=1234, learning_rate=invscaling, learning_rate_init=0.001, max_iter=300, solver=lbfgs, score=1.000, total=   1.4s\n",
            "[CV] activation=tanh, batch_size=80, hidden_layer_sizes=1234, learning_rate=invscaling, learning_rate_init=0.001, max_iter=300, solver=lbfgs \n"
          ],
          "name": "stdout"
        },
        {
          "output_type": "stream",
          "text": [
            "[Parallel(n_jobs=1)]: Done   3 out of   3 | elapsed:    3.8s remaining:    0.0s\n"
          ],
          "name": "stderr"
        },
        {
          "output_type": "stream",
          "text": [
            "[CV]  activation=tanh, batch_size=80, hidden_layer_sizes=1234, learning_rate=invscaling, learning_rate_init=0.001, max_iter=300, solver=lbfgs, score=1.000, total=   1.6s\n",
            "[CV] activation=tanh, batch_size=80, hidden_layer_sizes=1234, learning_rate=invscaling, learning_rate_init=0.001, max_iter=300, solver=lbfgs \n"
          ],
          "name": "stdout"
        },
        {
          "output_type": "stream",
          "text": [
            "[Parallel(n_jobs=1)]: Done   4 out of   4 | elapsed:    5.4s remaining:    0.0s\n"
          ],
          "name": "stderr"
        },
        {
          "output_type": "stream",
          "text": [
            "[CV]  activation=tanh, batch_size=80, hidden_layer_sizes=1234, learning_rate=invscaling, learning_rate_init=0.001, max_iter=300, solver=lbfgs, score=0.980, total=   1.6s\n",
            "[CV] activation=tanh, batch_size=80, hidden_layer_sizes=1234, learning_rate=invscaling, learning_rate_init=0.001, max_iter=300, solver=lbfgs \n"
          ],
          "name": "stdout"
        },
        {
          "output_type": "stream",
          "text": [
            "[Parallel(n_jobs=1)]: Done   5 out of   5 | elapsed:    7.0s remaining:    0.0s\n"
          ],
          "name": "stderr"
        },
        {
          "output_type": "stream",
          "text": [
            "[CV]  activation=tanh, batch_size=80, hidden_layer_sizes=1234, learning_rate=invscaling, learning_rate_init=0.001, max_iter=300, solver=lbfgs, score=0.907, total=   1.4s\n",
            "[CV] activation=tanh, batch_size=80, hidden_layer_sizes=1234, learning_rate=invscaling, learning_rate_init=0.001, max_iter=300, solver=lbfgs \n"
          ],
          "name": "stdout"
        },
        {
          "output_type": "stream",
          "text": [
            "[Parallel(n_jobs=1)]: Done   6 out of   6 | elapsed:    8.4s remaining:    0.0s\n"
          ],
          "name": "stderr"
        },
        {
          "output_type": "stream",
          "text": [
            "[CV]  activation=tanh, batch_size=80, hidden_layer_sizes=1234, learning_rate=invscaling, learning_rate_init=0.001, max_iter=300, solver=lbfgs, score=0.960, total=   1.4s\n",
            "[CV] activation=tanh, batch_size=80, hidden_layer_sizes=1234, learning_rate=invscaling, learning_rate_init=0.001, max_iter=300, solver=lbfgs \n"
          ],
          "name": "stdout"
        },
        {
          "output_type": "stream",
          "text": [
            "[Parallel(n_jobs=1)]: Done   7 out of   7 | elapsed:    9.8s remaining:    0.0s\n"
          ],
          "name": "stderr"
        },
        {
          "output_type": "stream",
          "text": [
            "[CV]  activation=tanh, batch_size=80, hidden_layer_sizes=1234, learning_rate=invscaling, learning_rate_init=0.001, max_iter=300, solver=lbfgs, score=1.000, total=   1.2s\n",
            "[CV] activation=tanh, batch_size=80, hidden_layer_sizes=1234, learning_rate=invscaling, learning_rate_init=0.001, max_iter=300, solver=lbfgs \n"
          ],
          "name": "stdout"
        },
        {
          "output_type": "stream",
          "text": [
            "[Parallel(n_jobs=1)]: Done   8 out of   8 | elapsed:   11.0s remaining:    0.0s\n"
          ],
          "name": "stderr"
        },
        {
          "output_type": "stream",
          "text": [
            "[CV]  activation=tanh, batch_size=80, hidden_layer_sizes=1234, learning_rate=invscaling, learning_rate_init=0.001, max_iter=300, solver=lbfgs, score=0.967, total=   1.2s\n",
            "[CV] activation=tanh, batch_size=80, hidden_layer_sizes=1234, learning_rate=invscaling, learning_rate_init=0.001, max_iter=300, solver=lbfgs \n"
          ],
          "name": "stdout"
        },
        {
          "output_type": "stream",
          "text": [
            "[Parallel(n_jobs=1)]: Done   9 out of   9 | elapsed:   12.2s remaining:    0.0s\n"
          ],
          "name": "stderr"
        },
        {
          "output_type": "stream",
          "text": [
            "[CV]  activation=tanh, batch_size=80, hidden_layer_sizes=1234, learning_rate=invscaling, learning_rate_init=0.001, max_iter=300, solver=lbfgs, score=0.947, total=   1.6s\n",
            "Fitting 10 folds for each of 1 candidates, totalling 10 fits\n",
            "[CV] activation=relu, batch_size=415, hidden_layer_sizes=1488, learning_rate=invscaling, learning_rate_init=0.1, max_iter=300, solver=sgd \n"
          ],
          "name": "stdout"
        },
        {
          "output_type": "stream",
          "text": [
            "[Parallel(n_jobs=1)]: Done  10 out of  10 | elapsed:   13.8s remaining:    0.0s\n",
            "[Parallel(n_jobs=1)]: Done  10 out of  10 | elapsed:   13.8s finished\n",
            "[Parallel(n_jobs=1)]: Using backend SequentialBackend with 1 concurrent workers.\n",
            "/usr/local/lib/python3.6/dist-packages/sklearn/neural_network/_multilayer_perceptron.py:571: ConvergenceWarning: Stochastic Optimizer: Maximum iterations (300) reached and the optimization hasn't converged yet.\n",
            "  % self.max_iter, ConvergenceWarning)\n",
            "[Parallel(n_jobs=1)]: Done   1 out of   1 | elapsed:   46.5s remaining:    0.0s\n"
          ],
          "name": "stderr"
        },
        {
          "output_type": "stream",
          "text": [
            "[CV]  activation=relu, batch_size=415, hidden_layer_sizes=1488, learning_rate=invscaling, learning_rate_init=0.1, max_iter=300, solver=sgd, score=0.920, total=  46.5s\n",
            "[CV] activation=relu, batch_size=415, hidden_layer_sizes=1488, learning_rate=invscaling, learning_rate_init=0.1, max_iter=300, solver=sgd \n"
          ],
          "name": "stdout"
        },
        {
          "output_type": "stream",
          "text": [
            "/usr/local/lib/python3.6/dist-packages/sklearn/neural_network/_multilayer_perceptron.py:571: ConvergenceWarning: Stochastic Optimizer: Maximum iterations (300) reached and the optimization hasn't converged yet.\n",
            "  % self.max_iter, ConvergenceWarning)\n",
            "[Parallel(n_jobs=1)]: Done   2 out of   2 | elapsed:  1.6min remaining:    0.0s\n"
          ],
          "name": "stderr"
        },
        {
          "output_type": "stream",
          "text": [
            "[CV]  activation=relu, batch_size=415, hidden_layer_sizes=1488, learning_rate=invscaling, learning_rate_init=0.1, max_iter=300, solver=sgd, score=1.000, total=  46.6s\n",
            "[CV] activation=relu, batch_size=415, hidden_layer_sizes=1488, learning_rate=invscaling, learning_rate_init=0.1, max_iter=300, solver=sgd \n"
          ],
          "name": "stdout"
        },
        {
          "output_type": "stream",
          "text": [
            "/usr/local/lib/python3.6/dist-packages/sklearn/neural_network/_multilayer_perceptron.py:571: ConvergenceWarning: Stochastic Optimizer: Maximum iterations (300) reached and the optimization hasn't converged yet.\n",
            "  % self.max_iter, ConvergenceWarning)\n",
            "[Parallel(n_jobs=1)]: Done   3 out of   3 | elapsed:  2.3min remaining:    0.0s\n"
          ],
          "name": "stderr"
        },
        {
          "output_type": "stream",
          "text": [
            "[CV]  activation=relu, batch_size=415, hidden_layer_sizes=1488, learning_rate=invscaling, learning_rate_init=0.1, max_iter=300, solver=sgd, score=1.000, total=  46.6s\n",
            "[CV] activation=relu, batch_size=415, hidden_layer_sizes=1488, learning_rate=invscaling, learning_rate_init=0.1, max_iter=300, solver=sgd \n"
          ],
          "name": "stdout"
        },
        {
          "output_type": "stream",
          "text": [
            "/usr/local/lib/python3.6/dist-packages/sklearn/neural_network/_multilayer_perceptron.py:571: ConvergenceWarning: Stochastic Optimizer: Maximum iterations (300) reached and the optimization hasn't converged yet.\n",
            "  % self.max_iter, ConvergenceWarning)\n",
            "[Parallel(n_jobs=1)]: Done   4 out of   4 | elapsed:  3.1min remaining:    0.0s\n"
          ],
          "name": "stderr"
        },
        {
          "output_type": "stream",
          "text": [
            "[CV]  activation=relu, batch_size=415, hidden_layer_sizes=1488, learning_rate=invscaling, learning_rate_init=0.1, max_iter=300, solver=sgd, score=0.980, total=  46.6s\n",
            "[CV] activation=relu, batch_size=415, hidden_layer_sizes=1488, learning_rate=invscaling, learning_rate_init=0.1, max_iter=300, solver=sgd \n"
          ],
          "name": "stdout"
        },
        {
          "output_type": "stream",
          "text": [
            "/usr/local/lib/python3.6/dist-packages/sklearn/neural_network/_multilayer_perceptron.py:571: ConvergenceWarning: Stochastic Optimizer: Maximum iterations (300) reached and the optimization hasn't converged yet.\n",
            "  % self.max_iter, ConvergenceWarning)\n",
            "[Parallel(n_jobs=1)]: Done   5 out of   5 | elapsed:  3.9min remaining:    0.0s\n"
          ],
          "name": "stderr"
        },
        {
          "output_type": "stream",
          "text": [
            "[CV]  activation=relu, batch_size=415, hidden_layer_sizes=1488, learning_rate=invscaling, learning_rate_init=0.1, max_iter=300, solver=sgd, score=0.980, total=  46.4s\n",
            "[CV] activation=relu, batch_size=415, hidden_layer_sizes=1488, learning_rate=invscaling, learning_rate_init=0.1, max_iter=300, solver=sgd \n"
          ],
          "name": "stdout"
        },
        {
          "output_type": "stream",
          "text": [
            "/usr/local/lib/python3.6/dist-packages/sklearn/neural_network/_multilayer_perceptron.py:571: ConvergenceWarning: Stochastic Optimizer: Maximum iterations (300) reached and the optimization hasn't converged yet.\n",
            "  % self.max_iter, ConvergenceWarning)\n",
            "[Parallel(n_jobs=1)]: Done   6 out of   6 | elapsed:  4.7min remaining:    0.0s\n"
          ],
          "name": "stderr"
        },
        {
          "output_type": "stream",
          "text": [
            "[CV]  activation=relu, batch_size=415, hidden_layer_sizes=1488, learning_rate=invscaling, learning_rate_init=0.1, max_iter=300, solver=sgd, score=0.813, total=  46.5s\n",
            "[CV] activation=relu, batch_size=415, hidden_layer_sizes=1488, learning_rate=invscaling, learning_rate_init=0.1, max_iter=300, solver=sgd \n"
          ],
          "name": "stdout"
        },
        {
          "output_type": "stream",
          "text": [
            "/usr/local/lib/python3.6/dist-packages/sklearn/neural_network/_multilayer_perceptron.py:571: ConvergenceWarning: Stochastic Optimizer: Maximum iterations (300) reached and the optimization hasn't converged yet.\n",
            "  % self.max_iter, ConvergenceWarning)\n",
            "[Parallel(n_jobs=1)]: Done   7 out of   7 | elapsed:  5.4min remaining:    0.0s\n"
          ],
          "name": "stderr"
        },
        {
          "output_type": "stream",
          "text": [
            "[CV]  activation=relu, batch_size=415, hidden_layer_sizes=1488, learning_rate=invscaling, learning_rate_init=0.1, max_iter=300, solver=sgd, score=0.900, total=  46.5s\n",
            "[CV] activation=relu, batch_size=415, hidden_layer_sizes=1488, learning_rate=invscaling, learning_rate_init=0.1, max_iter=300, solver=sgd \n"
          ],
          "name": "stdout"
        },
        {
          "output_type": "stream",
          "text": [
            "/usr/local/lib/python3.6/dist-packages/sklearn/neural_network/_multilayer_perceptron.py:571: ConvergenceWarning: Stochastic Optimizer: Maximum iterations (300) reached and the optimization hasn't converged yet.\n",
            "  % self.max_iter, ConvergenceWarning)\n",
            "[Parallel(n_jobs=1)]: Done   8 out of   8 | elapsed:  6.2min remaining:    0.0s\n"
          ],
          "name": "stderr"
        },
        {
          "output_type": "stream",
          "text": [
            "[CV]  activation=relu, batch_size=415, hidden_layer_sizes=1488, learning_rate=invscaling, learning_rate_init=0.1, max_iter=300, solver=sgd, score=1.000, total=  46.6s\n",
            "[CV] activation=relu, batch_size=415, hidden_layer_sizes=1488, learning_rate=invscaling, learning_rate_init=0.1, max_iter=300, solver=sgd \n"
          ],
          "name": "stdout"
        },
        {
          "output_type": "stream",
          "text": [
            "/usr/local/lib/python3.6/dist-packages/sklearn/neural_network/_multilayer_perceptron.py:571: ConvergenceWarning: Stochastic Optimizer: Maximum iterations (300) reached and the optimization hasn't converged yet.\n",
            "  % self.max_iter, ConvergenceWarning)\n",
            "[Parallel(n_jobs=1)]: Done   9 out of   9 | elapsed:  7.0min remaining:    0.0s\n"
          ],
          "name": "stderr"
        },
        {
          "output_type": "stream",
          "text": [
            "[CV]  activation=relu, batch_size=415, hidden_layer_sizes=1488, learning_rate=invscaling, learning_rate_init=0.1, max_iter=300, solver=sgd, score=0.900, total=  46.4s\n",
            "[CV] activation=relu, batch_size=415, hidden_layer_sizes=1488, learning_rate=invscaling, learning_rate_init=0.1, max_iter=300, solver=sgd \n"
          ],
          "name": "stdout"
        },
        {
          "output_type": "stream",
          "text": [
            "/usr/local/lib/python3.6/dist-packages/sklearn/neural_network/_multilayer_perceptron.py:571: ConvergenceWarning: Stochastic Optimizer: Maximum iterations (300) reached and the optimization hasn't converged yet.\n",
            "  % self.max_iter, ConvergenceWarning)\n",
            "[Parallel(n_jobs=1)]: Done  10 out of  10 | elapsed:  7.8min remaining:    0.0s\n",
            "[Parallel(n_jobs=1)]: Done  10 out of  10 | elapsed:  7.8min finished\n",
            "[Parallel(n_jobs=1)]: Using backend SequentialBackend with 1 concurrent workers.\n"
          ],
          "name": "stderr"
        },
        {
          "output_type": "stream",
          "text": [
            "[CV]  activation=relu, batch_size=415, hidden_layer_sizes=1488, learning_rate=invscaling, learning_rate_init=0.1, max_iter=300, solver=sgd, score=0.887, total=  46.7s\n",
            "Fitting 10 folds for each of 1 candidates, totalling 10 fits\n",
            "[CV] activation=relu, batch_size=318, hidden_layer_sizes=26, learning_rate=adaptive, learning_rate_init=0.1, max_iter=300, solver=sgd \n",
            "[CV]  activation=relu, batch_size=318, hidden_layer_sizes=26, learning_rate=adaptive, learning_rate_init=0.1, max_iter=300, solver=sgd, score=0.880, total=   1.5s\n",
            "[CV] activation=relu, batch_size=318, hidden_layer_sizes=26, learning_rate=adaptive, learning_rate_init=0.1, max_iter=300, solver=sgd \n"
          ],
          "name": "stdout"
        },
        {
          "output_type": "stream",
          "text": [
            "[Parallel(n_jobs=1)]: Done   1 out of   1 | elapsed:    1.5s remaining:    0.0s\n"
          ],
          "name": "stderr"
        },
        {
          "output_type": "stream",
          "text": [
            "[CV]  activation=relu, batch_size=318, hidden_layer_sizes=26, learning_rate=adaptive, learning_rate_init=0.1, max_iter=300, solver=sgd, score=1.000, total=   1.5s\n",
            "[CV] activation=relu, batch_size=318, hidden_layer_sizes=26, learning_rate=adaptive, learning_rate_init=0.1, max_iter=300, solver=sgd \n"
          ],
          "name": "stdout"
        },
        {
          "output_type": "stream",
          "text": [
            "[Parallel(n_jobs=1)]: Done   2 out of   2 | elapsed:    3.0s remaining:    0.0s\n"
          ],
          "name": "stderr"
        },
        {
          "output_type": "stream",
          "text": [
            "[CV]  activation=relu, batch_size=318, hidden_layer_sizes=26, learning_rate=adaptive, learning_rate_init=0.1, max_iter=300, solver=sgd, score=0.993, total=   1.5s\n",
            "[CV] activation=relu, batch_size=318, hidden_layer_sizes=26, learning_rate=adaptive, learning_rate_init=0.1, max_iter=300, solver=sgd \n"
          ],
          "name": "stdout"
        },
        {
          "output_type": "stream",
          "text": [
            "[Parallel(n_jobs=1)]: Done   3 out of   3 | elapsed:    4.5s remaining:    0.0s\n"
          ],
          "name": "stderr"
        },
        {
          "output_type": "stream",
          "text": [
            "[CV]  activation=relu, batch_size=318, hidden_layer_sizes=26, learning_rate=adaptive, learning_rate_init=0.1, max_iter=300, solver=sgd, score=0.973, total=   1.5s\n",
            "[CV] activation=relu, batch_size=318, hidden_layer_sizes=26, learning_rate=adaptive, learning_rate_init=0.1, max_iter=300, solver=sgd \n"
          ],
          "name": "stdout"
        },
        {
          "output_type": "stream",
          "text": [
            "[Parallel(n_jobs=1)]: Done   4 out of   4 | elapsed:    6.1s remaining:    0.0s\n"
          ],
          "name": "stderr"
        },
        {
          "output_type": "stream",
          "text": [
            "[CV]  activation=relu, batch_size=318, hidden_layer_sizes=26, learning_rate=adaptive, learning_rate_init=0.1, max_iter=300, solver=sgd, score=0.980, total=   1.5s\n",
            "[CV] activation=relu, batch_size=318, hidden_layer_sizes=26, learning_rate=adaptive, learning_rate_init=0.1, max_iter=300, solver=sgd \n"
          ],
          "name": "stdout"
        },
        {
          "output_type": "stream",
          "text": [
            "[Parallel(n_jobs=1)]: Done   5 out of   5 | elapsed:    7.6s remaining:    0.0s\n"
          ],
          "name": "stderr"
        },
        {
          "output_type": "stream",
          "text": [
            "[CV]  activation=relu, batch_size=318, hidden_layer_sizes=26, learning_rate=adaptive, learning_rate_init=0.1, max_iter=300, solver=sgd, score=0.807, total=   1.5s\n",
            "[CV] activation=relu, batch_size=318, hidden_layer_sizes=26, learning_rate=adaptive, learning_rate_init=0.1, max_iter=300, solver=sgd \n"
          ],
          "name": "stdout"
        },
        {
          "output_type": "stream",
          "text": [
            "[Parallel(n_jobs=1)]: Done   6 out of   6 | elapsed:    9.1s remaining:    0.0s\n"
          ],
          "name": "stderr"
        },
        {
          "output_type": "stream",
          "text": [
            "[CV]  activation=relu, batch_size=318, hidden_layer_sizes=26, learning_rate=adaptive, learning_rate_init=0.1, max_iter=300, solver=sgd, score=0.833, total=   1.5s\n",
            "[CV] activation=relu, batch_size=318, hidden_layer_sizes=26, learning_rate=adaptive, learning_rate_init=0.1, max_iter=300, solver=sgd \n"
          ],
          "name": "stdout"
        },
        {
          "output_type": "stream",
          "text": [
            "[Parallel(n_jobs=1)]: Done   7 out of   7 | elapsed:   10.6s remaining:    0.0s\n"
          ],
          "name": "stderr"
        },
        {
          "output_type": "stream",
          "text": [
            "[CV]  activation=relu, batch_size=318, hidden_layer_sizes=26, learning_rate=adaptive, learning_rate_init=0.1, max_iter=300, solver=sgd, score=1.000, total=   1.6s\n",
            "[CV] activation=relu, batch_size=318, hidden_layer_sizes=26, learning_rate=adaptive, learning_rate_init=0.1, max_iter=300, solver=sgd \n"
          ],
          "name": "stdout"
        },
        {
          "output_type": "stream",
          "text": [
            "[Parallel(n_jobs=1)]: Done   8 out of   8 | elapsed:   12.2s remaining:    0.0s\n"
          ],
          "name": "stderr"
        },
        {
          "output_type": "stream",
          "text": [
            "[CV]  activation=relu, batch_size=318, hidden_layer_sizes=26, learning_rate=adaptive, learning_rate_init=0.1, max_iter=300, solver=sgd, score=0.927, total=   1.6s\n",
            "[CV] activation=relu, batch_size=318, hidden_layer_sizes=26, learning_rate=adaptive, learning_rate_init=0.1, max_iter=300, solver=sgd \n"
          ],
          "name": "stdout"
        },
        {
          "output_type": "stream",
          "text": [
            "[Parallel(n_jobs=1)]: Done   9 out of   9 | elapsed:   13.7s remaining:    0.0s\n"
          ],
          "name": "stderr"
        },
        {
          "output_type": "stream",
          "text": [
            "[CV]  activation=relu, batch_size=318, hidden_layer_sizes=26, learning_rate=adaptive, learning_rate_init=0.1, max_iter=300, solver=sgd, score=0.833, total=   1.6s\n",
            "Fitting 10 folds for each of 1 candidates, totalling 10 fits\n",
            "[CV] activation=relu, batch_size=415, hidden_layer_sizes=1845, learning_rate=adaptive, learning_rate_init=0.001, max_iter=300, solver=lbfgs \n"
          ],
          "name": "stdout"
        },
        {
          "output_type": "stream",
          "text": [
            "[Parallel(n_jobs=1)]: Done  10 out of  10 | elapsed:   15.3s remaining:    0.0s\n",
            "[Parallel(n_jobs=1)]: Done  10 out of  10 | elapsed:   15.3s finished\n",
            "[Parallel(n_jobs=1)]: Using backend SequentialBackend with 1 concurrent workers.\n"
          ],
          "name": "stderr"
        },
        {
          "output_type": "stream",
          "text": [
            "[CV]  activation=relu, batch_size=415, hidden_layer_sizes=1845, learning_rate=adaptive, learning_rate_init=0.001, max_iter=300, solver=lbfgs, score=0.947, total=   2.2s\n",
            "[CV] activation=relu, batch_size=415, hidden_layer_sizes=1845, learning_rate=adaptive, learning_rate_init=0.001, max_iter=300, solver=lbfgs \n"
          ],
          "name": "stdout"
        },
        {
          "output_type": "stream",
          "text": [
            "[Parallel(n_jobs=1)]: Done   1 out of   1 | elapsed:    2.2s remaining:    0.0s\n"
          ],
          "name": "stderr"
        },
        {
          "output_type": "stream",
          "text": [
            "[CV]  activation=relu, batch_size=415, hidden_layer_sizes=1845, learning_rate=adaptive, learning_rate_init=0.001, max_iter=300, solver=lbfgs, score=1.000, total=   2.1s\n",
            "[CV] activation=relu, batch_size=415, hidden_layer_sizes=1845, learning_rate=adaptive, learning_rate_init=0.001, max_iter=300, solver=lbfgs \n"
          ],
          "name": "stdout"
        },
        {
          "output_type": "stream",
          "text": [
            "[Parallel(n_jobs=1)]: Done   2 out of   2 | elapsed:    4.3s remaining:    0.0s\n"
          ],
          "name": "stderr"
        },
        {
          "output_type": "stream",
          "text": [
            "[CV]  activation=relu, batch_size=415, hidden_layer_sizes=1845, learning_rate=adaptive, learning_rate_init=0.001, max_iter=300, solver=lbfgs, score=1.000, total=   2.5s\n",
            "[CV] activation=relu, batch_size=415, hidden_layer_sizes=1845, learning_rate=adaptive, learning_rate_init=0.001, max_iter=300, solver=lbfgs \n"
          ],
          "name": "stdout"
        },
        {
          "output_type": "stream",
          "text": [
            "[Parallel(n_jobs=1)]: Done   3 out of   3 | elapsed:    6.9s remaining:    0.0s\n"
          ],
          "name": "stderr"
        },
        {
          "output_type": "stream",
          "text": [
            "[CV]  activation=relu, batch_size=415, hidden_layer_sizes=1845, learning_rate=adaptive, learning_rate_init=0.001, max_iter=300, solver=lbfgs, score=1.000, total=   2.2s\n",
            "[CV] activation=relu, batch_size=415, hidden_layer_sizes=1845, learning_rate=adaptive, learning_rate_init=0.001, max_iter=300, solver=lbfgs \n"
          ],
          "name": "stdout"
        },
        {
          "output_type": "stream",
          "text": [
            "[Parallel(n_jobs=1)]: Done   4 out of   4 | elapsed:    9.0s remaining:    0.0s\n"
          ],
          "name": "stderr"
        },
        {
          "output_type": "stream",
          "text": [
            "[CV]  activation=relu, batch_size=415, hidden_layer_sizes=1845, learning_rate=adaptive, learning_rate_init=0.001, max_iter=300, solver=lbfgs, score=1.000, total=   2.2s\n",
            "[CV] activation=relu, batch_size=415, hidden_layer_sizes=1845, learning_rate=adaptive, learning_rate_init=0.001, max_iter=300, solver=lbfgs \n"
          ],
          "name": "stdout"
        },
        {
          "output_type": "stream",
          "text": [
            "[Parallel(n_jobs=1)]: Done   5 out of   5 | elapsed:   11.2s remaining:    0.0s\n"
          ],
          "name": "stderr"
        },
        {
          "output_type": "stream",
          "text": [
            "[CV]  activation=relu, batch_size=415, hidden_layer_sizes=1845, learning_rate=adaptive, learning_rate_init=0.001, max_iter=300, solver=lbfgs, score=0.900, total=   2.4s\n",
            "[CV] activation=relu, batch_size=415, hidden_layer_sizes=1845, learning_rate=adaptive, learning_rate_init=0.001, max_iter=300, solver=lbfgs \n"
          ],
          "name": "stdout"
        },
        {
          "output_type": "stream",
          "text": [
            "[Parallel(n_jobs=1)]: Done   6 out of   6 | elapsed:   13.6s remaining:    0.0s\n"
          ],
          "name": "stderr"
        },
        {
          "output_type": "stream",
          "text": [
            "[CV]  activation=relu, batch_size=415, hidden_layer_sizes=1845, learning_rate=adaptive, learning_rate_init=0.001, max_iter=300, solver=lbfgs, score=0.940, total=   2.8s\n",
            "[CV] activation=relu, batch_size=415, hidden_layer_sizes=1845, learning_rate=adaptive, learning_rate_init=0.001, max_iter=300, solver=lbfgs \n"
          ],
          "name": "stdout"
        },
        {
          "output_type": "stream",
          "text": [
            "[Parallel(n_jobs=1)]: Done   7 out of   7 | elapsed:   16.4s remaining:    0.0s\n"
          ],
          "name": "stderr"
        },
        {
          "output_type": "stream",
          "text": [
            "[CV]  activation=relu, batch_size=415, hidden_layer_sizes=1845, learning_rate=adaptive, learning_rate_init=0.001, max_iter=300, solver=lbfgs, score=1.000, total=   2.6s\n",
            "[CV] activation=relu, batch_size=415, hidden_layer_sizes=1845, learning_rate=adaptive, learning_rate_init=0.001, max_iter=300, solver=lbfgs \n"
          ],
          "name": "stdout"
        },
        {
          "output_type": "stream",
          "text": [
            "[Parallel(n_jobs=1)]: Done   8 out of   8 | elapsed:   19.0s remaining:    0.0s\n"
          ],
          "name": "stderr"
        },
        {
          "output_type": "stream",
          "text": [
            "[CV]  activation=relu, batch_size=415, hidden_layer_sizes=1845, learning_rate=adaptive, learning_rate_init=0.001, max_iter=300, solver=lbfgs, score=0.980, total=   2.0s\n",
            "[CV] activation=relu, batch_size=415, hidden_layer_sizes=1845, learning_rate=adaptive, learning_rate_init=0.001, max_iter=300, solver=lbfgs \n"
          ],
          "name": "stdout"
        },
        {
          "output_type": "stream",
          "text": [
            "[Parallel(n_jobs=1)]: Done   9 out of   9 | elapsed:   20.9s remaining:    0.0s\n"
          ],
          "name": "stderr"
        },
        {
          "output_type": "stream",
          "text": [
            "[CV]  activation=relu, batch_size=415, hidden_layer_sizes=1845, learning_rate=adaptive, learning_rate_init=0.001, max_iter=300, solver=lbfgs, score=0.953, total=   2.1s\n"
          ],
          "name": "stdout"
        },
        {
          "output_type": "stream",
          "text": [
            "[Parallel(n_jobs=1)]: Done  10 out of  10 | elapsed:   23.1s remaining:    0.0s\n",
            "[Parallel(n_jobs=1)]: Done  10 out of  10 | elapsed:   23.1s finished\n"
          ],
          "name": "stderr"
        },
        {
          "output_type": "execute_result",
          "data": {
            "application/javascript": [
              "google.colab.output.setIframeHeight('200px');"
            ],
            "text/plain": [
              "<IPython.core.display.Javascript object>"
            ]
          },
          "metadata": {
            "tags": []
          },
          "execution_count": 8
        }
      ]
    },
    {
      "cell_type": "code",
      "metadata": {
        "id": "VmINZD5wRa6X",
        "colab_type": "code",
        "colab": {
          "base_uri": "https://localhost:8080/",
          "height": 35
        },
        "outputId": "ba380fac-56d0-414f-cd78-ce996b438da5"
      },
      "source": [
        "print(stop-start)"
      ],
      "execution_count": null,
      "outputs": [
        {
          "output_type": "stream",
          "text": [
            "0:16:15.119889\n"
          ],
          "name": "stdout"
        }
      ]
    },
    {
      "cell_type": "code",
      "metadata": {
        "id": "6DA41p6Zzxpm",
        "colab_type": "code",
        "colab": {
          "base_uri": "https://localhost:8080/",
          "height": 35
        },
        "outputId": "24b64ebc-e12e-4875-9798-d7f275063dce"
      },
      "source": [
        "print(\"test score: %s\" % clf.score(X_pca, y))"
      ],
      "execution_count": null,
      "outputs": [
        {
          "output_type": "stream",
          "text": [
            "test score: 1.0\n"
          ],
          "name": "stdout"
        }
      ]
    },
    {
      "cell_type": "code",
      "metadata": {
        "id": "rNicsBONz0eZ",
        "colab_type": "code",
        "colab": {
          "base_uri": "https://localhost:8080/",
          "height": 141
        },
        "outputId": "13d15c12-da43-4b47-d2c0-8169adb652f3"
      },
      "source": [
        "clf.best_params_"
      ],
      "execution_count": null,
      "outputs": [
        {
          "output_type": "execute_result",
          "data": {
            "text/plain": [
              "OrderedDict([('activation', 'relu'),\n",
              "             ('batch_size', 415),\n",
              "             ('hidden_layer_sizes', 1845),\n",
              "             ('learning_rate', 'adaptive'),\n",
              "             ('learning_rate_init', 0.001),\n",
              "             ('max_iter', 300),\n",
              "             ('solver', 'lbfgs')])"
            ]
          },
          "metadata": {
            "tags": []
          },
          "execution_count": 11
        }
      ]
    },
    {
      "cell_type": "code",
      "metadata": {
        "id": "9-gR2bigQrNj",
        "colab_type": "code",
        "colab": {}
      },
      "source": [
        "# pd.DataFrame(data.cv_results_)"
      ],
      "execution_count": null,
      "outputs": []
    },
    {
      "cell_type": "code",
      "metadata": {
        "id": "gUXw1ylFRSm2",
        "colab_type": "code",
        "colab": {
          "base_uri": "https://localhost:8080/",
          "height": 159
        },
        "outputId": "b699d22a-a990-4105-ba4a-44eee7e8f2fc"
      },
      "source": [
        "classifier = data.best_estimator_\n",
        "print(classifier)"
      ],
      "execution_count": null,
      "outputs": [
        {
          "output_type": "stream",
          "text": [
            "MLPClassifier(activation='relu', alpha=0.0001, batch_size=415, beta_1=0.9,\n",
            "              beta_2=0.999, early_stopping=False, epsilon=1e-08,\n",
            "              hidden_layer_sizes=1845, learning_rate='adaptive',\n",
            "              learning_rate_init=0.001, max_fun=15000, max_iter=300,\n",
            "              momentum=0.9, n_iter_no_change=10, nesterovs_momentum=True,\n",
            "              power_t=0.5, random_state=None, shuffle=True, solver='lbfgs',\n",
            "              tol=0.0001, validation_fraction=0.1, verbose=False,\n",
            "              warm_start=False)\n"
          ],
          "name": "stdout"
        }
      ]
    },
    {
      "cell_type": "code",
      "metadata": {
        "id": "BD35b4rlRmQ6",
        "colab_type": "code",
        "colab": {
          "base_uri": "https://localhost:8080/",
          "height": 70
        },
        "outputId": "33fa4520-f7bf-46b5-d55a-c436173065d5"
      },
      "source": [
        "c=cross_val_score(classifier, X_pca, y, cv=10)\n",
        "print(\"cross validation: \", c);\n",
        "print(\"cross_validation mean: \", c.mean())"
      ],
      "execution_count": null,
      "outputs": [
        {
          "output_type": "stream",
          "text": [
            "cross validation:  [0.94       1.         0.99333333 0.99333333 0.98       0.92\n",
            " 0.92666667 1.         0.97333333 0.95333333]\n",
            "cross_validation mean:  0.968\n"
          ],
          "name": "stdout"
        }
      ]
    },
    {
      "cell_type": "code",
      "metadata": {
        "id": "mwmoB3miRqaT",
        "colab_type": "code",
        "colab": {}
      },
      "source": [
        "pvt = pd.pivot_table(pd.DataFrame(data.cv_results_),\n",
        "    values='mean_test_score', index='param_solver', columns='param_hidden_layer_sizes')"
      ],
      "execution_count": null,
      "outputs": []
    },
    {
      "cell_type": "code",
      "metadata": {
        "id": "WWPAPCyqRwpK",
        "colab_type": "code",
        "colab": {
          "base_uri": "https://localhost:8080/",
          "height": 389
        },
        "outputId": "5348201e-25f3-44e1-b7bd-755da57d9d5f"
      },
      "source": [
        "import seaborn as sns  \n",
        "print(\"\\n\\n\")     \n",
        "ax = sns.heatmap(pvt)"
      ],
      "execution_count": null,
      "outputs": [
        {
          "output_type": "stream",
          "text": [
            "\n",
            "\n",
            "\n"
          ],
          "name": "stdout"
        },
        {
          "output_type": "stream",
          "text": [
            "/usr/local/lib/python3.6/dist-packages/statsmodels/tools/_testing.py:19: FutureWarning: pandas.util.testing is deprecated. Use the functions in the public API at pandas.testing instead.\n",
            "  import pandas.util.testing as tm\n"
          ],
          "name": "stderr"
        },
        {
          "output_type": "display_data",
          "data": {
            "image/png": "[encoded data removed]",
            "text/plain": [
              "<Figure size 432x288 with 2 Axes>"
            ]
          },
          "metadata": {
            "tags": [],
            "needs_background": "light"
          }
        }
      ]
    }
  ]
}