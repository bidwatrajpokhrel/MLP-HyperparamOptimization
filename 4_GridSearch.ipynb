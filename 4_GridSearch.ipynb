{
  "nbformat": 4,
  "nbformat_minor": 0,
  "metadata": {
    "colab": {
      "name": "4_GridSearch.ipynb",
      "provenance": [],
      "collapsed_sections": [],
      "mount_file_id": "1e-PcBiPxumAkkG5JkuWDMGg6UlAfQhO_",
      "authorship_tag": "ABX9TyNj4r1qodFgpBoRV7Xn22k1",
      "include_colab_link": true
    },
    "kernelspec": {
      "name": "python3",
      "display_name": "Python 3"
    }
  },
  "cells": [
    {
      "cell_type": "markdown",
      "metadata": {
        "id": "view-in-github",
        "colab_type": "text"
      },
      "source": [
        "<a href=\"https://colab.research.google.com/github/bidwatrajpokhrel/MLP-HyperparamOptimization/blob/master/4_GridSearch.ipynb\" target=\"_parent\"><img src=\"https://colab.research.google.com/assets/colab-badge.svg\" alt=\"Open In Colab\"/></a>"
      ]
    },
    {
      "cell_type": "code",
      "metadata": {
        "id": "n4bop5SH5Prr",
        "colab_type": "code",
        "colab": {}
      },
      "source": [
        "from IPython import display"
      ],
      "execution_count": null,
      "outputs": []
    },
    {
      "cell_type": "code",
      "metadata": {
        "id": "XxpEosoR1cGj",
        "colab_type": "code",
        "colab": {}
      },
      "source": [
        "#from google.colab import drive # mounts the google drive for a new notebook \n",
        "#drive.mount('/content/drive')"
      ],
      "execution_count": null,
      "outputs": []
    },
    {
      "cell_type": "code",
      "metadata": {
        "id": "a4M1SG-o3HW2",
        "colab_type": "code",
        "colab": {}
      },
      "source": [
        "# load the 2 npy files created by the process_yale_images.ipynb \n",
        "from numpy import load\n",
        "import numpy as np\n",
        "path = '/content/drive/My Drive/BidwatPhotosSample/'\n",
        "# load array\n",
        "y = load(path + 'yaleExtB_target.npy')\n",
        "X  = load(path + 'yaleExtB_data.npy')"
      ],
      "execution_count": null,
      "outputs": []
    },
    {
      "cell_type": "code",
      "metadata": {
        "id": "0LW_M7DU3WiM",
        "colab_type": "code",
        "colab": {}
      },
      "source": [
        "from sklearn.model_selection import train_test_split # loads functions from the ML library sklearn \n",
        "from sklearn.metrics import classification_report\n",
        "from sklearn.decomposition import PCA\n",
        "from sklearn.neural_network import MLPClassifier\n",
        "from sklearn.model_selection import RandomizedSearchCV\n",
        "from sklearn.model_selection import cross_val_score\n",
        "from datetime import datetime\n",
        "import pandas as pd"
      ],
      "execution_count": null,
      "outputs": []
    },
    {
      "cell_type": "code",
      "metadata": {
        "id": "JPEXhNyy6ldJ",
        "colab_type": "code",
        "colab": {}
      },
      "source": [
        "# split into a training and testing set\n",
        "X_train, X_test, y_train, y_test = train_test_split(X, y, test_size=0.1)"
      ],
      "execution_count": null,
      "outputs": []
    },
    {
      "cell_type": "code",
      "metadata": {
        "id": "iLYjJr1v8FQo",
        "colab_type": "code",
        "colab": {}
      },
      "source": [
        "# PCA \n",
        "nof_prin_components = 200  # PARAMETER for optimisation in expereiments\n",
        "pca = PCA(n_components=nof_prin_components, whiten=True).fit(X_train)\n",
        "# applies PCA to the train and test images to calculate the principal components\n",
        "X_train_pca = pca.transform(X_train) \n",
        "X_test_pca = pca.transform(X_test)\n",
        "X_pca = pca.transform(X)"
      ],
      "execution_count": null,
      "outputs": []
    },
    {
      "cell_type": "code",
      "metadata": {
        "id": "5xU3xcd-eAfp",
        "colab_type": "code",
        "colab": {}
      },
      "source": [
        "from sklearn.model_selection import GridSearchCV"
      ],
      "execution_count": null,
      "outputs": []
    },
    {
      "cell_type": "code",
      "metadata": {
        "id": "Jz_D1xeTaR0C",
        "colab_type": "code",
        "colab": {}
      },
      "source": [
        "params = {\n",
        "    'hidden_layer_sizes': list(range(500, 1501, 50)),\n",
        "    'solver':['lbfgs', 'sgd'],\n",
        "    'activation':['logistic', 'tanh'],\n",
        "    'batch_size': ['400','450','500'],\n",
        "    'learning_rate_init': [0.01],\n",
        "    'max_iter': [300]\n",
        "}"
      ],
      "execution_count": null,
      "outputs": []
    },
    {
      "cell_type": "code",
      "metadata": {
        "id": "nh1Jyfrbcb0g",
        "colab_type": "code",
        "colab": {}
      },
      "source": [
        "clf = GridSearchCV(MLPClassifier(), params, n_jobs=-1, cv=10, return_train_score=True, verbose=10)"
      ],
      "execution_count": null,
      "outputs": []
    },
    {
      "cell_type": "code",
      "metadata": {
        "id": "8qLBrs0Kc4Mj",
        "colab_type": "code",
        "colab": {
          "base_uri": "https://localhost:8080/",
          "height": 200
        },
        "outputId": "07f2de45-5036-4eec-908d-36839a14c3b6"
      },
      "source": [
        "start = datetime.now()\n",
        "a = clf.fit(X_pca, y)\n",
        "stop=datetime.now()\n",
        "display.Javascript(\"google.colab.output.setIframeHeight('200px');\")"
      ],
      "execution_count": null,
      "outputs": [
        {
          "output_type": "stream",
          "text": [
            "Fitting 10 folds for each of 252 candidates, totalling 2520 fits\n"
          ],
          "name": "stdout"
        },
        {
          "output_type": "stream",
          "text": [
            "[Parallel(n_jobs=-1)]: Using backend LokyBackend with 2 concurrent workers.\n",
            "[Parallel(n_jobs=-1)]: Done   1 tasks      | elapsed:    3.1s\n",
            "[Parallel(n_jobs=-1)]: Done   4 tasks      | elapsed:    5.9s\n",
            "[Parallel(n_jobs=-1)]: Done   9 tasks      | elapsed:   11.6s\n",
            "[Parallel(n_jobs=-1)]: Done  14 tasks      | elapsed:   11.7s\n",
            "[Parallel(n_jobs=-1)]: Done  21 tasks      | elapsed:   14.0s\n",
            "[Parallel(n_jobs=-1)]: Done  28 tasks      | elapsed:   22.7s\n",
            "[Parallel(n_jobs=-1)]: Done  37 tasks      | elapsed:   23.7s\n",
            "[Parallel(n_jobs=-1)]: Done  46 tasks      | elapsed:   32.7s\n",
            "[Parallel(n_jobs=-1)]: Done  57 tasks      | elapsed:   36.8s\n",
            "[Parallel(n_jobs=-1)]: Done  68 tasks      | elapsed:   50.1s\n",
            "[Parallel(n_jobs=-1)]: Done  81 tasks      | elapsed:   54.0s\n",
            "[Parallel(n_jobs=-1)]: Done  94 tasks      | elapsed:  1.1min\n",
            "[Parallel(n_jobs=-1)]: Done 109 tasks      | elapsed:  1.4min\n",
            "[Parallel(n_jobs=-1)]: Done 124 tasks      | elapsed:  1.6min\n",
            "[Parallel(n_jobs=-1)]: Done 141 tasks      | elapsed:  1.8min\n",
            "[Parallel(n_jobs=-1)]: Done 158 tasks      | elapsed:  2.0min\n",
            "[Parallel(n_jobs=-1)]: Done 177 tasks      | elapsed:  2.4min\n",
            "[Parallel(n_jobs=-1)]: Done 196 tasks      | elapsed:  2.8min\n",
            "[Parallel(n_jobs=-1)]: Done 217 tasks      | elapsed:  3.2min\n",
            "[Parallel(n_jobs=-1)]: Done 238 tasks      | elapsed:  3.6min\n",
            "[Parallel(n_jobs=-1)]: Done 261 tasks      | elapsed:  4.1min\n",
            "[Parallel(n_jobs=-1)]: Done 284 tasks      | elapsed:  4.7min\n",
            "[Parallel(n_jobs=-1)]: Done 309 tasks      | elapsed:  5.4min\n",
            "[Parallel(n_jobs=-1)]: Done 334 tasks      | elapsed:  5.9min\n",
            "[Parallel(n_jobs=-1)]: Done 361 tasks      | elapsed:  6.6min\n",
            "[Parallel(n_jobs=-1)]: Done 388 tasks      | elapsed:  7.5min\n",
            "[Parallel(n_jobs=-1)]: Done 417 tasks      | elapsed:  8.3min\n",
            "[Parallel(n_jobs=-1)]: Done 446 tasks      | elapsed:  8.6min\n",
            "[Parallel(n_jobs=-1)]: Done 477 tasks      | elapsed:  8.9min\n",
            "[Parallel(n_jobs=-1)]: Done 508 tasks      | elapsed:  9.4min\n",
            "[Parallel(n_jobs=-1)]: Done 541 tasks      | elapsed:  9.7min\n",
            "[Parallel(n_jobs=-1)]: Done 574 tasks      | elapsed: 10.3min\n",
            "[Parallel(n_jobs=-1)]: Done 609 tasks      | elapsed: 11.1min\n",
            "[Parallel(n_jobs=-1)]: Done 644 tasks      | elapsed: 11.6min\n",
            "[Parallel(n_jobs=-1)]: Done 681 tasks      | elapsed: 12.4min\n",
            "[Parallel(n_jobs=-1)]: Done 718 tasks      | elapsed: 13.3min\n",
            "[Parallel(n_jobs=-1)]: Done 757 tasks      | elapsed: 14.3min\n",
            "[Parallel(n_jobs=-1)]: Done 796 tasks      | elapsed: 15.4min\n",
            "[Parallel(n_jobs=-1)]: Done 837 tasks      | elapsed: 16.6min\n",
            "[Parallel(n_jobs=-1)]: Done 878 tasks      | elapsed: 17.1min\n",
            "[Parallel(n_jobs=-1)]: Done 921 tasks      | elapsed: 17.6min\n",
            "[Parallel(n_jobs=-1)]: Done 964 tasks      | elapsed: 18.2min\n",
            "[Parallel(n_jobs=-1)]: Done 1009 tasks      | elapsed: 19.1min\n",
            "[Parallel(n_jobs=-1)]: Done 1054 tasks      | elapsed: 19.8min\n",
            "[Parallel(n_jobs=-1)]: Done 1101 tasks      | elapsed: 20.8min\n",
            "[Parallel(n_jobs=-1)]: Done 1148 tasks      | elapsed: 22.1min\n",
            "[Parallel(n_jobs=-1)]: Done 1197 tasks      | elapsed: 23.2min\n",
            "[Parallel(n_jobs=-1)]: Done 1246 tasks      | elapsed: 24.8min\n",
            "[Parallel(n_jobs=-1)]: Done 1297 tasks      | elapsed: 25.1min\n",
            "[Parallel(n_jobs=-1)]: Done 1348 tasks      | elapsed: 25.4min\n",
            "[Parallel(n_jobs=-1)]: Done 1401 tasks      | elapsed: 25.6min\n",
            "[Parallel(n_jobs=-1)]: Done 1454 tasks      | elapsed: 26.0min\n",
            "[Parallel(n_jobs=-1)]: Done 1509 tasks      | elapsed: 26.4min\n",
            "[Parallel(n_jobs=-1)]: Done 1564 tasks      | elapsed: 26.9min\n",
            "[Parallel(n_jobs=-1)]: Done 1621 tasks      | elapsed: 27.4min\n",
            "[Parallel(n_jobs=-1)]: Done 1678 tasks      | elapsed: 28.0min\n",
            "[Parallel(n_jobs=-1)]: Done 1737 tasks      | elapsed: 28.3min\n",
            "[Parallel(n_jobs=-1)]: Done 1796 tasks      | elapsed: 28.6min\n",
            "[Parallel(n_jobs=-1)]: Done 1857 tasks      | elapsed: 28.9min\n",
            "[Parallel(n_jobs=-1)]: Done 1918 tasks      | elapsed: 29.4min\n",
            "[Parallel(n_jobs=-1)]: Done 1981 tasks      | elapsed: 29.9min\n",
            "[Parallel(n_jobs=-1)]: Done 2044 tasks      | elapsed: 30.5min\n",
            "[Parallel(n_jobs=-1)]: Done 2109 tasks      | elapsed: 31.1min\n",
            "[Parallel(n_jobs=-1)]: Done 2174 tasks      | elapsed: 31.4min\n",
            "[Parallel(n_jobs=-1)]: Done 2241 tasks      | elapsed: 31.7min\n",
            "[Parallel(n_jobs=-1)]: Done 2308 tasks      | elapsed: 32.2min\n",
            "[Parallel(n_jobs=-1)]: Done 2377 tasks      | elapsed: 32.7min\n",
            "[Parallel(n_jobs=-1)]: Done 2446 tasks      | elapsed: 33.4min\n",
            "[Parallel(n_jobs=-1)]: Done 2517 tasks      | elapsed: 34.1min\n",
            "[Parallel(n_jobs=-1)]: Done 2520 out of 2520 | elapsed: 34.1min finished\n"
          ],
          "name": "stderr"
        },
        {
          "output_type": "execute_result",
          "data": {
            "application/javascript": [
              "google.colab.output.setIframeHeight('200px');"
            ],
            "text/plain": [
              "<IPython.core.display.Javascript object>"
            ]
          },
          "metadata": {
            "tags": []
          },
          "execution_count": 10
        }
      ]
    },
    {
      "cell_type": "code",
      "metadata": {
        "id": "tXcnIP7jxmR0",
        "colab_type": "code",
        "colab": {
          "base_uri": "https://localhost:8080/",
          "height": 34
        },
        "outputId": "fa9bd8d6-1de2-4847-8ed8-df5183aa9da2"
      },
      "source": [
        "print(stop-start)"
      ],
      "execution_count": null,
      "outputs": [
        {
          "output_type": "stream",
          "text": [
            "0:34:05.944911\n"
          ],
          "name": "stdout"
        }
      ]
    },
    {
      "cell_type": "code",
      "metadata": {
        "id": "JPlzikUuxxz9",
        "colab_type": "code",
        "colab": {
          "base_uri": "https://localhost:8080/",
          "height": 118
        },
        "outputId": "afe2660f-527a-41b9-b734-c54e455f7834"
      },
      "source": [
        "a.best_params_"
      ],
      "execution_count": null,
      "outputs": [
        {
          "output_type": "execute_result",
          "data": {
            "text/plain": [
              "{'activation': 'tanh',\n",
              " 'batch_size': '500',\n",
              " 'hidden_layer_sizes': 1450,\n",
              " 'learning_rate_init': 0.01,\n",
              " 'max_iter': 300,\n",
              " 'solver': 'lbfgs'}"
            ]
          },
          "metadata": {
            "tags": []
          },
          "execution_count": 12
        }
      ]
    },
    {
      "cell_type": "code",
      "metadata": {
        "id": "AKo6X01Z87tG",
        "colab_type": "code",
        "colab": {
          "base_uri": "https://localhost:8080/",
          "height": 34
        },
        "outputId": "5034084f-a09d-45c8-a257-74b0e3e6c577"
      },
      "source": [
        "a.best_score_"
      ],
      "execution_count": null,
      "outputs": [
        {
          "output_type": "execute_result",
          "data": {
            "text/plain": [
              "0.9753333333333334"
            ]
          },
          "metadata": {
            "tags": []
          },
          "execution_count": 13
        }
      ]
    },
    {
      "cell_type": "code",
      "metadata": {
        "id": "ZzatLTpTx2qi",
        "colab_type": "code",
        "colab": {
          "base_uri": "https://localhost:8080/",
          "height": 151
        },
        "outputId": "0f6cb6d6-c8ab-4689-8684-a726cae93051"
      },
      "source": [
        "MLPC=a.best_estimator_\n",
        "print(MLPC)"
      ],
      "execution_count": null,
      "outputs": [
        {
          "output_type": "stream",
          "text": [
            "MLPClassifier(activation='tanh', alpha=0.0001, batch_size='500', beta_1=0.9,\n",
            "              beta_2=0.999, early_stopping=False, epsilon=1e-08,\n",
            "              hidden_layer_sizes=1450, learning_rate='constant',\n",
            "              learning_rate_init=0.01, max_fun=15000, max_iter=300,\n",
            "              momentum=0.9, n_iter_no_change=10, nesterovs_momentum=True,\n",
            "              power_t=0.5, random_state=None, shuffle=True, solver='lbfgs',\n",
            "              tol=0.0001, validation_fraction=0.1, verbose=False,\n",
            "              warm_start=False)\n"
          ],
          "name": "stdout"
        }
      ]
    },
    {
      "cell_type": "code",
      "metadata": {
        "id": "5JNY-mK7x5y6",
        "colab_type": "code",
        "colab": {}
      },
      "source": [
        "f = cross_val_score(MLPC, X_pca, y, cv=10)"
      ],
      "execution_count": null,
      "outputs": []
    },
    {
      "cell_type": "code",
      "metadata": {
        "id": "KDBiCN6_x-PN",
        "colab_type": "code",
        "colab": {
          "base_uri": "https://localhost:8080/",
          "height": 67
        },
        "outputId": "dc74524e-60fc-41cb-d5fd-61b9d70fb84c"
      },
      "source": [
        "print(\"Cross Validation:\", f)\n",
        "print(\"Cross Validation Mean:\", f.mean())"
      ],
      "execution_count": null,
      "outputs": [
        {
          "output_type": "stream",
          "text": [
            "Cross Validation: [0.94       1.         1.         1.         1.         0.88\n",
            " 0.95333333 1.         0.97333333 0.95333333]\n",
            "Cross Validation Mean: 0.97\n"
          ],
          "name": "stdout"
        }
      ]
    },
    {
      "cell_type": "code",
      "metadata": {
        "id": "P6DoRtqeyCEL",
        "colab_type": "code",
        "colab": {}
      },
      "source": [
        "import pandas as pd\n",
        "pvt = pd.pivot_table(pd.DataFrame(a.cv_results_),\n",
        "    values='mean_test_score', index='param_activation', columns='param_hidden_layer_sizes')"
      ],
      "execution_count": null,
      "outputs": []
    },
    {
      "cell_type": "code",
      "metadata": {
        "id": "QR7xCM9ZyC47",
        "colab_type": "code",
        "colab": {
          "base_uri": "https://localhost:8080/",
          "height": 346
        },
        "outputId": "a0febc27-0642-40fb-ccfa-96da1fbe65a2"
      },
      "source": [
        "import seaborn as sns  \n",
        "print(\"\\n\\n\")     \n",
        "ax = sns.heatmap(pvt)"
      ],
      "execution_count": null,
      "outputs": [
        {
          "output_type": "stream",
          "text": [
            "\n",
            "\n",
            "\n"
          ],
          "name": "stdout"
        },
        {
          "output_type": "display_data",
          "data": {
            "image/png": "[encoded data removed]",
            "text/plain": [
              "<Figure size 432x288 with 2 Axes>"
            ]
          },
          "metadata": {
            "tags": [],
            "needs_background": "light"
          }
        }
      ]
    }
  ]
}